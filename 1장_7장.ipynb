{
  "nbformat": 4,
  "nbformat_minor": 0,
  "metadata": {
    "colab": {
      "name": "1장- 7장.ipynb",
      "provenance": [],
      "collapsed_sections": [],
      "mount_file_id": "1vRVucoSik1ejHwdMoRrVNXh4DtS0t4EC",
      "authorship_tag": "ABX9TyOw9dH6wPNlH2st4lfywkkC",
      "include_colab_link": true
    },
    "kernelspec": {
      "name": "python3",
      "display_name": "Python 3"
    },
    "language_info": {
      "name": "python"
    }
  },
  "cells": [
    {
      "cell_type": "markdown",
      "metadata": {
        "id": "view-in-github",
        "colab_type": "text"
      },
      "source": [
        "<a href=\"https://colab.research.google.com/github/ssilver01/DAP__/blob/main/1%EC%9E%A5_7%EC%9E%A5.ipynb\" target=\"_parent\"><img src=\"https://colab.research.google.com/assets/colab-badge.svg\" alt=\"Open In Colab\"/></a>"
      ]
    },
    {
      "cell_type": "code",
      "metadata": {
        "colab": {
          "base_uri": "https://localhost:8080/"
        },
        "id": "tzDlv1zID_AH",
        "outputId": "e33801de-eea1-45c0-dfff-2b62dcf8ce5b"
      },
      "source": [
        "import pandas as pd\n",
        "from google.colab import drive\n",
        "drive.mount('/content/drive')\n",
        "import matplotlib.pyplot as plt"
      ],
      "execution_count": null,
      "outputs": [
        {
          "output_type": "stream",
          "name": "stdout",
          "text": [
            "Drive already mounted at /content/drive; to attempt to forcibly remount, call drive.mount(\"/content/drive\", force_remount=True).\n"
          ]
        }
      ]
    },
    {
      "cell_type": "code",
      "metadata": {
        "id": "QcMf61VQSBBK"
      },
      "source": [
        "df = pd.read_csv('/content/drive/MyDrive/Colab Notebooks/doit_pandas-master/data/scientists.csv')"
      ],
      "execution_count": null,
      "outputs": []
    },
    {
      "cell_type": "code",
      "metadata": {
        "colab": {
          "base_uri": "https://localhost:8080/",
          "height": 206
        },
        "id": "hXPYThnHEoep",
        "outputId": "19499eb3-d99c-4df3-853b-121e26dbc97c"
      },
      "source": [
        "df.head()\n"
      ],
      "execution_count": null,
      "outputs": [
        {
          "output_type": "execute_result",
          "data": {
            "text/html": [
              "<div>\n",
              "<style scoped>\n",
              "    .dataframe tbody tr th:only-of-type {\n",
              "        vertical-align: middle;\n",
              "    }\n",
              "\n",
              "    .dataframe tbody tr th {\n",
              "        vertical-align: top;\n",
              "    }\n",
              "\n",
              "    .dataframe thead th {\n",
              "        text-align: right;\n",
              "    }\n",
              "</style>\n",
              "<table border=\"1\" class=\"dataframe\">\n",
              "  <thead>\n",
              "    <tr style=\"text-align: right;\">\n",
              "      <th></th>\n",
              "      <th>Name</th>\n",
              "      <th>Born</th>\n",
              "      <th>Died</th>\n",
              "      <th>Age</th>\n",
              "      <th>Occupation</th>\n",
              "    </tr>\n",
              "  </thead>\n",
              "  <tbody>\n",
              "    <tr>\n",
              "      <th>0</th>\n",
              "      <td>Rosaline Franklin</td>\n",
              "      <td>1920-07-25</td>\n",
              "      <td>1958-04-16</td>\n",
              "      <td>37</td>\n",
              "      <td>Chemist</td>\n",
              "    </tr>\n",
              "    <tr>\n",
              "      <th>1</th>\n",
              "      <td>William Gosset</td>\n",
              "      <td>1876-06-13</td>\n",
              "      <td>1937-10-16</td>\n",
              "      <td>61</td>\n",
              "      <td>Statistician</td>\n",
              "    </tr>\n",
              "    <tr>\n",
              "      <th>2</th>\n",
              "      <td>Florence Nightingale</td>\n",
              "      <td>1820-05-12</td>\n",
              "      <td>1910-08-13</td>\n",
              "      <td>90</td>\n",
              "      <td>Nurse</td>\n",
              "    </tr>\n",
              "    <tr>\n",
              "      <th>3</th>\n",
              "      <td>Marie Curie</td>\n",
              "      <td>1867-11-07</td>\n",
              "      <td>1934-07-04</td>\n",
              "      <td>66</td>\n",
              "      <td>Chemist</td>\n",
              "    </tr>\n",
              "    <tr>\n",
              "      <th>4</th>\n",
              "      <td>Rachel Carson</td>\n",
              "      <td>1907-05-27</td>\n",
              "      <td>1964-04-14</td>\n",
              "      <td>56</td>\n",
              "      <td>Biologist</td>\n",
              "    </tr>\n",
              "  </tbody>\n",
              "</table>\n",
              "</div>"
            ],
            "text/plain": [
              "                   Name        Born        Died  Age    Occupation\n",
              "0     Rosaline Franklin  1920-07-25  1958-04-16   37       Chemist\n",
              "1        William Gosset  1876-06-13  1937-10-16   61  Statistician\n",
              "2  Florence Nightingale  1820-05-12  1910-08-13   90         Nurse\n",
              "3           Marie Curie  1867-11-07  1934-07-04   66       Chemist\n",
              "4         Rachel Carson  1907-05-27  1964-04-14   56     Biologist"
            ]
          },
          "metadata": {},
          "execution_count": 3
        }
      ]
    },
    {
      "cell_type": "code",
      "metadata": {
        "id": "DZwBM47gJ4pQ"
      },
      "source": [
        "born_datetime = pd.to_datetime(df['Born'],format='%Y-%m-%d')\n",
        "died_datetime = pd.to_datetime(df['Died'],format='%Y-%m-%d')"
      ],
      "execution_count": null,
      "outputs": []
    },
    {
      "cell_type": "code",
      "metadata": {
        "colab": {
          "base_uri": "https://localhost:8080/"
        },
        "id": "_MH0RMj-LfPs",
        "outputId": "448ba075-a08d-4670-d621-6b47aefb224d"
      },
      "source": [
        "df['born_dt'],df['died_dt'] = (born_datetime,died_datetime)\n",
        "print(df.head())\n"
      ],
      "execution_count": null,
      "outputs": [
        {
          "output_type": "stream",
          "name": "stdout",
          "text": [
            "                   Name        Born  ...    born_dt    died_dt\n",
            "0     Rosaline Franklin  1920-07-25  ... 1920-07-25 1958-04-16\n",
            "1        William Gosset  1876-06-13  ... 1876-06-13 1937-10-16\n",
            "2  Florence Nightingale  1820-05-12  ... 1820-05-12 1910-08-13\n",
            "3           Marie Curie  1867-11-07  ... 1867-11-07 1934-07-04\n",
            "4         Rachel Carson  1907-05-27  ... 1907-05-27 1964-04-14\n",
            "\n",
            "[5 rows x 7 columns]\n"
          ]
        }
      ]
    },
    {
      "cell_type": "code",
      "metadata": {
        "colab": {
          "base_uri": "https://localhost:8080/"
        },
        "id": "j3bj7xZUMAwz",
        "outputId": "0d027072-54ca-4fb6-99f7-93aa12f967dd"
      },
      "source": [
        "df['age_days_dt'] = (df['died_dt']-df['born_dt'])\n",
        "print(df.head())"
      ],
      "execution_count": null,
      "outputs": [
        {
          "output_type": "stream",
          "name": "stdout",
          "text": [
            "                   Name        Born  ...    died_dt  age_days_dt\n",
            "0     Rosaline Franklin  1920-07-25  ... 1958-04-16   13779 days\n",
            "1        William Gosset  1876-06-13  ... 1937-10-16   22404 days\n",
            "2  Florence Nightingale  1820-05-12  ... 1910-08-13   32964 days\n",
            "3           Marie Curie  1867-11-07  ... 1934-07-04   24345 days\n",
            "4         Rachel Carson  1907-05-27  ... 1964-04-14   20777 days\n",
            "\n",
            "[5 rows x 8 columns]\n"
          ]
        }
      ]
    },
    {
      "cell_type": "code",
      "metadata": {
        "colab": {
          "base_uri": "https://localhost:8080/"
        },
        "id": "ib4BvCOGM8aK",
        "outputId": "b91e64e8-4d22-4b98-d582-3cb34bca72eb"
      },
      "source": [
        "print(df['Age'])\n",
        "import random\n",
        "random.seed(42)\n",
        "random.shuffle(df['Age'])\n",
        "print(df['Age'])"
      ],
      "execution_count": null,
      "outputs": [
        {
          "output_type": "stream",
          "name": "stdout",
          "text": [
            "0    37\n",
            "1    61\n",
            "2    90\n",
            "3    66\n",
            "4    56\n",
            "5    45\n",
            "6    41\n",
            "7    77\n",
            "Name: Age, dtype: int64\n",
            "0    66\n",
            "1    56\n",
            "2    41\n",
            "3    77\n",
            "4    90\n",
            "5    45\n",
            "6    37\n",
            "7    61\n",
            "Name: Age, dtype: int64\n"
          ]
        },
        {
          "output_type": "stream",
          "name": "stderr",
          "text": [
            "/usr/lib/python3.7/random.py:278: SettingWithCopyWarning: \n",
            "A value is trying to be set on a copy of a slice from a DataFrame\n",
            "\n",
            "See the caveats in the documentation: https://pandas.pydata.org/pandas-docs/stable/user_guide/indexing.html#returning-a-view-versus-a-copy\n",
            "  x[i], x[j] = x[j], x[i]\n"
          ]
        }
      ]
    },
    {
      "cell_type": "code",
      "metadata": {
        "colab": {
          "base_uri": "https://localhost:8080/"
        },
        "id": "NZ8FG-scOBob",
        "outputId": "4ce36f55-ed6b-43d1-81f4-76c82314c9b3"
      },
      "source": [
        "import seaborn as sns\n",
        "anscombe = sns.load_dataset(\"anscombe\")\n",
        "print(anscombe)"
      ],
      "execution_count": null,
      "outputs": [
        {
          "output_type": "stream",
          "name": "stdout",
          "text": [
            "   dataset     x      y\n",
            "0        I  10.0   8.04\n",
            "1        I   8.0   6.95\n",
            "2        I  13.0   7.58\n",
            "3        I   9.0   8.81\n",
            "4        I  11.0   8.33\n",
            "5        I  14.0   9.96\n",
            "6        I   6.0   7.24\n",
            "7        I   4.0   4.26\n",
            "8        I  12.0  10.84\n",
            "9        I   7.0   4.82\n",
            "10       I   5.0   5.68\n",
            "11      II  10.0   9.14\n",
            "12      II   8.0   8.14\n",
            "13      II  13.0   8.74\n",
            "14      II   9.0   8.77\n",
            "15      II  11.0   9.26\n",
            "16      II  14.0   8.10\n",
            "17      II   6.0   6.13\n",
            "18      II   4.0   3.10\n",
            "19      II  12.0   9.13\n",
            "20      II   7.0   7.26\n",
            "21      II   5.0   4.74\n",
            "22     III  10.0   7.46\n",
            "23     III   8.0   6.77\n",
            "24     III  13.0  12.74\n",
            "25     III   9.0   7.11\n",
            "26     III  11.0   7.81\n",
            "27     III  14.0   8.84\n",
            "28     III   6.0   6.08\n",
            "29     III   4.0   5.39\n",
            "30     III  12.0   8.15\n",
            "31     III   7.0   6.42\n",
            "32     III   5.0   5.73\n",
            "33      IV   8.0   6.58\n",
            "34      IV   8.0   5.76\n",
            "35      IV   8.0   7.71\n",
            "36      IV   8.0   8.84\n",
            "37      IV   8.0   8.47\n",
            "38      IV   8.0   7.04\n",
            "39      IV   8.0   5.25\n",
            "40      IV  19.0  12.50\n",
            "41      IV   8.0   5.56\n",
            "42      IV   8.0   7.91\n",
            "43      IV   8.0   6.89\n"
          ]
        }
      ]
    },
    {
      "cell_type": "code",
      "metadata": {
        "id": "zdqEqgItR311"
      },
      "source": [
        "import matplotlib.pyplot as plt"
      ],
      "execution_count": null,
      "outputs": []
    },
    {
      "cell_type": "code",
      "metadata": {
        "id": "Xc79vaj0SAel"
      },
      "source": [
        "dataset_1 = anscombe[anscombe['dataset']=='I']\n",
        "dataset_2 = anscombe[anscombe['dataset']=='II']\n",
        "dataset_3 = anscombe[anscombe['dataset']=='III']\n",
        "dataset_4 = anscombe[anscombe['dataset']=='IV']"
      ],
      "execution_count": null,
      "outputs": []
    },
    {
      "cell_type": "code",
      "metadata": {
        "colab": {
          "base_uri": "https://localhost:8080/",
          "height": 284
        },
        "id": "I_bBuO-MSN42",
        "outputId": "02e4a371-2369-4a3c-b8cf-332dfcbc15f4"
      },
      "source": [
        "\n",
        "fig = plt.figure()\n",
        "axes1 = fig.add_subplot(2,2,1)\n",
        "axes2 = fig.add_subplot(2,2,2)\n",
        "axes3 = fig.add_subplot(2,2,3)\n",
        "axes4 = fig.add_subplot(2,2,4)\n",
        "axes1.plot(dataset_1['x'],dataset_1['y'],'o')\n",
        "axes2.plot(dataset_2['x'],dataset_2['y'],'o')\n",
        "axes3.plot(dataset_3['x'],dataset_3['y'],'o')\n",
        "axes4.plot(dataset_4['x'],dataset_4['y'],'o')"
      ],
      "execution_count": null,
      "outputs": [
        {
          "output_type": "execute_result",
          "data": {
            "text/plain": [
              "[<matplotlib.lines.Line2D at 0x7efbfe9a4f50>]"
            ]
          },
          "metadata": {},
          "execution_count": 11
        },
        {
          "output_type": "display_data",
          "data": {
            "image/png": "[encoded data removed]",
            "text/plain": [
              "<Figure size 432x288 with 4 Axes>"
            ]
          },
          "metadata": {
            "needs_background": "light"
          }
        }
      ]
    },
    {
      "cell_type": "code",
      "metadata": {
        "colab": {
          "base_uri": "https://localhost:8080/"
        },
        "id": "BQOgwiv_SghO",
        "outputId": "cc1d7087-28a7-4b29-be05-518ee16a5252"
      },
      "source": [
        "tips = sns.load_dataset(\"tips\")\n",
        "print(tips.head())"
      ],
      "execution_count": null,
      "outputs": [
        {
          "output_type": "stream",
          "name": "stdout",
          "text": [
            "   total_bill   tip     sex smoker  day    time  size\n",
            "0       16.99  1.01  Female     No  Sun  Dinner     2\n",
            "1       10.34  1.66    Male     No  Sun  Dinner     3\n",
            "2       21.01  3.50    Male     No  Sun  Dinner     3\n",
            "3       23.68  3.31    Male     No  Sun  Dinner     2\n",
            "4       24.59  3.61  Female     No  Sun  Dinner     4\n"
          ]
        }
      ]
    },
    {
      "cell_type": "code",
      "metadata": {
        "colab": {
          "base_uri": "https://localhost:8080/",
          "height": 314
        },
        "id": "bOCuj4_wdtNY",
        "outputId": "63b281b6-a148-4740-ffc3-d3b219fd8c72"
      },
      "source": [
        "fig = plt.figure()\n",
        "axes1 = fig.add_subplot(1,1,1)\n",
        "axes1.hist(tips['total_bill'],bins=10)\n",
        "axes1.set_title('Histogram of Total Bill')\n",
        "axes1.set_ylabel('Total Bill')\n",
        "axes1.set_xlabel('R')"
      ],
      "execution_count": null,
      "outputs": [
        {
          "output_type": "execute_result",
          "data": {
            "text/plain": [
              "Text(0.5, 0, 'R')"
            ]
          },
          "metadata": {},
          "execution_count": 13
        },
        {
          "output_type": "display_data",
          "data": {
            "image/png": "[encoded data removed]",
            "text/plain": [
              "<Figure size 432x288 with 1 Axes>"
            ]
          },
          "metadata": {
            "needs_background": "light"
          }
        }
      ]
    },
    {
      "cell_type": "code",
      "metadata": {
        "colab": {
          "base_uri": "https://localhost:8080/",
          "height": 314
        },
        "id": "kA76--qHfTMc",
        "outputId": "008ba5d7-1a23-4428-aa1d-6d0329f2c9e7"
      },
      "source": [
        "def recode_sex(sex):\n",
        "  if sex == 'Female':\n",
        "    return 0\n",
        "  else:\n",
        "    return 1\n",
        "tips['sex_color'] = tips['sex'].apply(recode_sex)\n",
        "scatter_plot = plt.figure()\n",
        "axes1 = scatter_plot.add_subplot(1,1,1)\n",
        "axes1.scatter(\n",
        "    x = tips['total_bill'],\n",
        "    y = tips['tip'],\n",
        "    c=tips['sex_color'],\n",
        "    s = tips['size']*10)\n",
        "axes1.set_title('Scatterplot of To')\n",
        "axes1.set_xlabel('Total Bill')\n",
        "axes1.set_ylabel('Tip')"
      ],
      "execution_count": null,
      "outputs": [
        {
          "output_type": "execute_result",
          "data": {
            "text/plain": [
              "Text(0, 0.5, 'Tip')"
            ]
          },
          "metadata": {},
          "execution_count": 14
        },
        {
          "output_type": "display_data",
          "data": {
            "image/png": "[encoded data removed]",
            "text/plain": [
              "<Figure size 432x288 with 1 Axes>"
            ]
          },
          "metadata": {
            "needs_background": "light"
          }
        }
      ]
    },
    {
      "cell_type": "code",
      "metadata": {
        "colab": {
          "base_uri": "https://localhost:8080/",
          "height": 371
        },
        "id": "XVg_-BPSgeEK",
        "outputId": "3cf29dc5-c3dd-410a-e411-b73c49d83da2"
      },
      "source": [
        "boxplot = plt.figure()\n",
        "axes1 = boxplot.add_subplot(1,1,1)\n",
        "axes1.boxplot([tips[tips['sex']=='Female']['tip'],tips[tips['sex']=='Male']['tip']],\n",
        "              labels = ['Femlae','Male'])\n",
        "axes1.set_title('Boxplot ot Tips by Sex')\n",
        "axes1.set_xlabel('Sex')\n",
        "axes1.set_ylabel('Tip')"
      ],
      "execution_count": null,
      "outputs": [
        {
          "output_type": "stream",
          "name": "stderr",
          "text": [
            "/usr/local/lib/python3.7/dist-packages/numpy/core/_asarray.py:83: VisibleDeprecationWarning: Creating an ndarray from ragged nested sequences (which is a list-or-tuple of lists-or-tuples-or ndarrays with different lengths or shapes) is deprecated. If you meant to do this, you must specify 'dtype=object' when creating the ndarray\n",
            "  return array(a, dtype, copy=False, order=order)\n"
          ]
        },
        {
          "output_type": "execute_result",
          "data": {
            "text/plain": [
              "Text(0, 0.5, 'Tip')"
            ]
          },
          "metadata": {},
          "execution_count": 15
        },
        {
          "output_type": "display_data",
          "data": {
            "image/png": "[encoded data removed]",
            "text/plain": [
              "<Figure size 432x288 with 1 Axes>"
            ]
          },
          "metadata": {
            "needs_background": "light"
          }
        }
      ]
    },
    {
      "cell_type": "code",
      "metadata": {
        "id": "4ztkyYZqjdWe"
      },
      "source": [
        "#seaborn\n",
        "import seaborn as sns\n",
        "import matplotlib.pyplot as plt\n",
        "tips = sns.load_dataset(\"tips\")"
      ],
      "execution_count": null,
      "outputs": []
    },
    {
      "cell_type": "code",
      "metadata": {
        "colab": {
          "base_uri": "https://localhost:8080/",
          "height": 184
        },
        "id": "38foLYW_m8VJ",
        "outputId": "fe8b6d7c-0650-44c8-bce0-77afda9f2997"
      },
      "source": [
        "ax = plt.subplots()\n",
        "ax = sns.countplot('day',data=tips)"
      ],
      "execution_count": 2,
      "outputs": [
        {
          "output_type": "error",
          "ename": "NameError",
          "evalue": "ignored",
          "traceback": [
            "\u001b[0;31m---------------------------------------------------------------------------\u001b[0m",
            "\u001b[0;31mNameError\u001b[0m                                 Traceback (most recent call last)",
            "\u001b[0;32m<ipython-input-2-f2656975e382>\u001b[0m in \u001b[0;36m<module>\u001b[0;34m()\u001b[0m\n\u001b[0;32m----> 1\u001b[0;31m \u001b[0max\u001b[0m \u001b[0;34m=\u001b[0m \u001b[0mplt\u001b[0m\u001b[0;34m.\u001b[0m\u001b[0msubplots\u001b[0m\u001b[0;34m(\u001b[0m\u001b[0;34m)\u001b[0m\u001b[0;34m\u001b[0m\u001b[0;34m\u001b[0m\u001b[0m\n\u001b[0m\u001b[1;32m      2\u001b[0m \u001b[0max\u001b[0m \u001b[0;34m=\u001b[0m \u001b[0msns\u001b[0m\u001b[0;34m.\u001b[0m\u001b[0mcountplot\u001b[0m\u001b[0;34m(\u001b[0m\u001b[0;34m'day'\u001b[0m\u001b[0;34m,\u001b[0m\u001b[0mdata\u001b[0m\u001b[0;34m=\u001b[0m\u001b[0mtips\u001b[0m\u001b[0;34m)\u001b[0m\u001b[0;34m\u001b[0m\u001b[0;34m\u001b[0m\u001b[0m\n",
            "\u001b[0;31mNameError\u001b[0m: name 'plt' is not defined"
          ]
        }
      ]
    },
    {
      "cell_type": "code",
      "metadata": {
        "colab": {
          "base_uri": "https://localhost:8080/",
          "height": 314
        },
        "id": "HFfY-_-YrtGB",
        "outputId": "b6fc695f-0a5d-41f7-8aa8-034289272a73"
      },
      "source": [
        "ax = plt.subplot()\n",
        "ax = sns.regplot(x ='total_bill',y='tip',data = tips,fit_reg = False)\n",
        "ax.set_title('Scatterplot of Total Bill and Tip')\n",
        "ax.set_xlabel('Total Bill')\n",
        "ax.set_ylabel('Tip')"
      ],
      "execution_count": null,
      "outputs": [
        {
          "output_type": "execute_result",
          "data": {
            "text/plain": [
              "Text(0, 0.5, 'Tip')"
            ]
          },
          "metadata": {},
          "execution_count": 18
        },
        {
          "output_type": "display_data",
          "data": {
            "image/png": "[encoded data removed]",
            "text/plain": [
              "<Figure size 432x288 with 1 Axes>"
            ]
          },
          "metadata": {
            "needs_background": "light"
          }
        }
      ]
    },
    {
      "cell_type": "code",
      "metadata": {
        "colab": {
          "base_uri": "https://localhost:8080/",
          "height": 483
        },
        "id": "S_iPJErXtFM4",
        "outputId": "e010777e-3806-4e75-db0d-dfe1ec732519"
      },
      "source": [
        "joint = sns.jointplot(x='total_bill',y='tip',data=tips,kind=\"hex\")\n",
        "joint.set_axis_labels(xlabel='Total Bill',ylabel='Tip')\n",
        "joint.fig.suptitle('Joiny Plot ot Total and Tip',fontsize=10,y=1.03)"
      ],
      "execution_count": null,
      "outputs": [
        {
          "output_type": "execute_result",
          "data": {
            "text/plain": [
              "Text(0.5, 1.03, 'Joiny Plot ot Total and Tip')"
            ]
          },
          "metadata": {},
          "execution_count": 19
        },
        {
          "output_type": "display_data",
          "data": {
            "image/png": "[encoded data removed]",
            "text/plain": [
              "<Figure size 432x432 with 3 Axes>"
            ]
          },
          "metadata": {
            "needs_background": "light"
          }
        }
      ]
    },
    {
      "cell_type": "code",
      "metadata": {
        "colab": {
          "base_uri": "https://localhost:8080/",
          "height": 317
        },
        "id": "HgPckkR_t5JE",
        "outputId": "423e7655-d868-4a43-8693-9afe02e14a5a"
      },
      "source": [
        "#이차원 밀집도 그리기\n",
        "ax = plt.subplot()\n",
        "sx = sns.kdeplot(data=tips['total_bill'],\n",
        "                           data2=tips['tip'],\n",
        "                           shade=True)"
      ],
      "execution_count": null,
      "outputs": [
        {
          "output_type": "stream",
          "name": "stderr",
          "text": [
            "/usr/local/lib/python3.7/dist-packages/seaborn/distributions.py:1681: FutureWarning: Use `x` and `y` rather than `data` `and `data2`\n",
            "  warnings.warn(msg, FutureWarning)\n"
          ]
        },
        {
          "output_type": "display_data",
          "data": {
            "image/png": "[encoded data removed]",
            "text/plain": [
              "<Figure size 432x288 with 1 Axes>"
            ]
          },
          "metadata": {
            "needs_background": "light"
          }
        }
      ]
    },
    {
      "cell_type": "code",
      "metadata": {
        "colab": {
          "base_uri": "https://localhost:8080/",
          "height": 279
        },
        "id": "EevYTyoJyAjg",
        "outputId": "0307a196-bd72-40b6-b4d7-d857b078de87"
      },
      "source": [
        "ax = plt.subplots()\n",
        "ax = sns.barplot(x='time',y='total_bill',data=tips)"
      ],
      "execution_count": null,
      "outputs": [
        {
          "output_type": "display_data",
          "data": {
            "image/png": "[encoded data removed]",
            "text/plain": [
              "<Figure size 432x288 with 1 Axes>"
            ]
          },
          "metadata": {
            "needs_background": "light"
          }
        }
      ]
    },
    {
      "cell_type": "code",
      "metadata": {
        "id": "3-HH8VfwDSum"
      },
      "source": [
        ""
      ],
      "execution_count": null,
      "outputs": []
    },
    {
      "cell_type": "code",
      "metadata": {
        "colab": {
          "base_uri": "https://localhost:8080/",
          "height": 282
        },
        "id": "4j-iPhDGyPbX",
        "outputId": "420a45d1-acef-4600-8949-467a3a38eec4"
      },
      "source": [
        "ax = plt.subplots()\n",
        "ax = sns.violinplot(x='time',y='total_bill',data=tips)"
      ],
      "execution_count": null,
      "outputs": [
        {
          "output_type": "display_data",
          "data": {
            "image/png": "[encoded data removed]",
            "text/plain": [
              "<Figure size 432x288 with 1 Axes>"
            ]
          },
          "metadata": {
            "needs_background": "light"
          }
        }
      ]
    },
    {
      "cell_type": "code",
      "metadata": {
        "colab": {
          "base_uri": "https://localhost:8080/",
          "height": 550
        },
        "id": "dm6-HRhLy2sr",
        "outputId": "b4ae27df-9615-4b63-9883-97d355a73d8f"
      },
      "source": [
        "fig = sns.pairplot(tips)"
      ],
      "execution_count": null,
      "outputs": [
        {
          "output_type": "display_data",
          "data": {
            "image/png": "[encoded data removed]",
            "text/plain": [
              "<Figure size 540x540 with 12 Axes>"
            ]
          },
          "metadata": {
            "needs_background": "light"
          }
        }
      ]
    },
    {
      "cell_type": "code",
      "metadata": {
        "colab": {
          "base_uri": "https://localhost:8080/",
          "height": 790
        },
        "id": "zuPYXpy6zmsB",
        "outputId": "0d7de331-656e-43dc-9cc9-63298122805b"
      },
      "source": [
        "pair_grid = sns.PairGrid(tips)\n",
        "pair_grid = pair_grid.map_upper(sns.regplot)\n",
        "pair_grid = pair_grid.map_lower(sns.kdeplot)\n",
        "pair_grid = pair_grid.map_diag(sns.distplot,rug=True)\n",
        "plt.show()"
      ],
      "execution_count": null,
      "outputs": [
        {
          "output_type": "stream",
          "name": "stderr",
          "text": [
            "/usr/local/lib/python3.7/dist-packages/seaborn/distributions.py:2619: FutureWarning: `distplot` is a deprecated function and will be removed in a future version. Please adapt your code to use either `displot` (a figure-level function with similar flexibility) or `histplot` (an axes-level function for histograms).\n",
            "  warnings.warn(msg, FutureWarning)\n",
            "/usr/local/lib/python3.7/dist-packages/seaborn/distributions.py:2103: FutureWarning: The `axis` variable is no longer used and will be removed. Instead, assign variables directly to `x` or `y`.\n",
            "  warnings.warn(msg, FutureWarning)\n",
            "/usr/local/lib/python3.7/dist-packages/seaborn/distributions.py:2619: FutureWarning: `distplot` is a deprecated function and will be removed in a future version. Please adapt your code to use either `displot` (a figure-level function with similar flexibility) or `histplot` (an axes-level function for histograms).\n",
            "  warnings.warn(msg, FutureWarning)\n",
            "/usr/local/lib/python3.7/dist-packages/seaborn/distributions.py:2103: FutureWarning: The `axis` variable is no longer used and will be removed. Instead, assign variables directly to `x` or `y`.\n",
            "  warnings.warn(msg, FutureWarning)\n",
            "/usr/local/lib/python3.7/dist-packages/seaborn/distributions.py:2619: FutureWarning: `distplot` is a deprecated function and will be removed in a future version. Please adapt your code to use either `displot` (a figure-level function with similar flexibility) or `histplot` (an axes-level function for histograms).\n",
            "  warnings.warn(msg, FutureWarning)\n",
            "/usr/local/lib/python3.7/dist-packages/seaborn/distributions.py:2103: FutureWarning: The `axis` variable is no longer used and will be removed. Instead, assign variables directly to `x` or `y`.\n",
            "  warnings.warn(msg, FutureWarning)\n"
          ]
        },
        {
          "output_type": "display_data",
          "data": {
            "image/png": "[encoded data removed]",
            "text/plain": [
              "<Figure size 540x540 with 12 Axes>"
            ]
          },
          "metadata": {
            "needs_background": "light"
          }
        }
      ]
    },
    {
      "cell_type": "code",
      "metadata": {
        "colab": {
          "base_uri": "https://localhost:8080/",
          "height": 280
        },
        "id": "CWrBXAFp0Zfz",
        "outputId": "1f1fb27a-0483-4b36-e691-575b16f60d01"
      },
      "source": [
        "#다변량 그래프 그리기\n",
        "ax = plt.subplots()\n",
        "ax = sns.violinplot(x='time',y='total_bill',hue='sex',data=tips,split=True)"
      ],
      "execution_count": null,
      "outputs": [
        {
          "output_type": "display_data",
          "data": {
            "image/png": "[encoded data removed]",
            "text/plain": [
              "<Figure size 432x288 with 1 Axes>"
            ]
          },
          "metadata": {
            "needs_background": "light"
          }
        }
      ]
    },
    {
      "cell_type": "code",
      "metadata": {
        "colab": {
          "base_uri": "https://localhost:8080/",
          "height": 902
        },
        "id": "5U8akvEl3kya",
        "outputId": "ebb7f903-b044-4455-a96e-5ff68832e1ce"
      },
      "source": [
        "scatter = sns.lmplot(x='total_bill',y='tip',data=tips,hue='sex',fit_reg=False)\n",
        "fit = sns.pairplot(tips,hue='sex')"
      ],
      "execution_count": null,
      "outputs": [
        {
          "output_type": "display_data",
          "data": {
            "image/png": "[encoded data removed]",
            "text/plain": [
              "<Figure size 432.125x360 with 1 Axes>"
            ]
          },
          "metadata": {
            "needs_background": "light"
          }
        },
        {
          "output_type": "display_data",
          "data": {
            "image/png": "[encoded data removed]",
            "text/plain": [
              "<Figure size 612.125x540 with 12 Axes>"
            ]
          },
          "metadata": {
            "needs_background": "light"
          }
        }
      ]
    },
    {
      "cell_type": "code",
      "metadata": {
        "id": "V5eXzgCnIuVF",
        "colab": {
          "base_uri": "https://localhost:8080/",
          "height": 315
        },
        "outputId": "78d5db0c-3819-4dbf-8219-ed2932bfc143"
      },
      "source": [
        "ax = plt.subplot() #그래프 틀을 작성\n",
        "ax = sns.regplot(x='total_bill',y='tip',data=tips,fit_reg=False)# 회귀 곡선포함한 산점도 그래프 그리기\n",
        "ax.set_title('Scatter')\n",
        "ax.set_xlabel"
      ],
      "execution_count": null,
      "outputs": [
        {
          "output_type": "execute_result",
          "data": {
            "text/plain": [
              "<bound method Axes.set_xlabel of <matplotlib.axes._subplots.AxesSubplot object at 0x7efbf04c4590>>"
            ]
          },
          "metadata": {},
          "execution_count": 27
        },
        {
          "output_type": "display_data",
          "data": {
            "image/png": "[encoded data removed]",
            "text/plain": [
              "<Figure size 432x288 with 1 Axes>"
            ]
          },
          "metadata": {
            "needs_background": "light"
          }
        }
      ]
    },
    {
      "cell_type": "code",
      "metadata": {
        "colab": {
          "base_uri": "https://localhost:8080/",
          "height": 462
        },
        "id": "u58mhWLftXJH",
        "outputId": "9784b93c-f647-43b7-ab53-cea6bede1e31"
      },
      "source": [
        "#joint--> 산점도 그래프와 히스토그램을 한번에 그려주는 메소드, \n",
        "# kind = 'hex'\n",
        "joint = sns.jointplot(x='total_bill',y='tip',data=tips,kind='hex')\n",
        "joint.set_axis_labels(xlabel='To',ylabel='tip')\n",
        "joint.fig.suptitle('ddd',fontsize=10)\n"
      ],
      "execution_count": null,
      "outputs": [
        {
          "output_type": "execute_result",
          "data": {
            "text/plain": [
              "Text(0.5, 0.98, 'ddd')"
            ]
          },
          "metadata": {},
          "execution_count": 28
        },
        {
          "output_type": "display_data",
          "data": {
            "image/png": "[encoded data removed]",
            "text/plain": [
              "<Figure size 432x432 with 3 Axes>"
            ]
          },
          "metadata": {
            "needs_background": "light"
          }
        }
      ]
    },
    {
      "cell_type": "code",
      "metadata": {
        "id": "CIggD57YvABC",
        "colab": {
          "base_uri": "https://localhost:8080/",
          "height": 317
        },
        "outputId": "ccb6a8ba-0e14-4012-d39c-80ba0d946ffc"
      },
      "source": [
        "#이차원 밀집도\n",
        "ax=plt.subplot() # 틀제작\n",
        "ax = sns.kdeplot(data=tips['total_bill'],\n",
        "                 data2=tips['tip'],\n",
        "                 shade=True)"
      ],
      "execution_count": null,
      "outputs": [
        {
          "output_type": "stream",
          "name": "stderr",
          "text": [
            "/usr/local/lib/python3.7/dist-packages/seaborn/distributions.py:1681: FutureWarning: Use `x` and `y` rather than `data` `and `data2`\n",
            "  warnings.warn(msg, FutureWarning)\n"
          ]
        },
        {
          "output_type": "display_data",
          "data": {
            "image/png": "[encoded data removed]",
            "text/plain": [
              "<Figure size 432x288 with 1 Axes>"
            ]
          },
          "metadata": {
            "needs_background": "light"
          }
        }
      ]
    },
    {
      "cell_type": "code",
      "metadata": {
        "colab": {
          "base_uri": "https://localhost:8080/",
          "height": 729
        },
        "id": "3f6mw0HvwF3S",
        "outputId": "5d9680db-88f1-4cd3-f198-d4e5c533d846"
      },
      "source": [
        "# col_wrap: 그래프를 그릴 열의 최댓값을 지정\n",
        "# col : 데이터 그룸을 구분할 열을 지정 1~4\n",
        "anscombe_plot = sns.lmplot(x='x',y='y',data = anscombe,fit_reg=False,\n",
        "                           col='dataset',col_wrap=2)\n"
      ],
      "execution_count": null,
      "outputs": [
        {
          "output_type": "display_data",
          "data": {
            "image/png": "[encoded data removed]",
            "text/plain": [
              "<Figure size 720x720 with 4 Axes>"
            ]
          },
          "metadata": {
            "needs_background": "light"
          }
        }
      ]
    },
    {
      "cell_type": "code",
      "metadata": {
        "colab": {
          "base_uri": "https://localhost:8080/",
          "height": 265
        },
        "id": "bNqQ8aGlyjhV",
        "outputId": "04c771df-a005-4b1d-bc1c-ea4ba7ab2a91"
      },
      "source": [
        "# alpha 투명도, bins x축의 간격\n",
        "ax=plt.subplots()\n",
        "ax= tips['total_bill'].plot.hist(alpha=0.5)"
      ],
      "execution_count": null,
      "outputs": [
        {
          "output_type": "display_data",
          "data": {
            "image/png": "[encoded data removed]",
            "text/plain": [
              "<Figure size 432x288 with 1 Axes>"
            ]
          },
          "metadata": {
            "needs_background": "light"
          }
        }
      ]
    },
    {
      "cell_type": "code",
      "metadata": {
        "colab": {
          "base_uri": "https://localhost:8080/",
          "height": 265
        },
        "id": "iykfn2o9zPQ6",
        "outputId": "b12d3bd0-8082-49b7-be09-2611240b0b04"
      },
      "source": [
        "ax = plt.subplots()\n",
        "ax = tips['tip'].plot.kde(x='ddd')"
      ],
      "execution_count": null,
      "outputs": [
        {
          "output_type": "display_data",
          "data": {
            "image/png": "[encoded data removed]",
            "text/plain": [
              "<Figure size 432x288 with 1 Axes>"
            ]
          },
          "metadata": {
            "needs_background": "light"
          }
        }
      ]
    },
    {
      "cell_type": "code",
      "metadata": {
        "colab": {
          "base_uri": "https://localhost:8080/",
          "height": 280
        },
        "id": "6HH9ba9NzsCA",
        "outputId": "eba269e6-c813-4c40-b648-85d8b4bcceb9"
      },
      "source": [
        "sns.set_style('whitegrid')\n",
        "fig, ax= plt.subplots()\n",
        "ax = sns.violinplot(x='time',y='total_bill',hue='sex',data=tips,split=True)"
      ],
      "execution_count": null,
      "outputs": [
        {
          "output_type": "display_data",
          "data": {
            "image/png": "[encoded data removed]",
            "text/plain": [
              "<Figure size 432x288 with 1 Axes>"
            ]
          },
          "metadata": {}
        }
      ]
    },
    {
      "cell_type": "code",
      "metadata": {
        "id": "n37Rg38Y0lja"
      },
      "source": [
        "import pandas as pd \n",
        "\n",
        "df1 = pd.read_csv('/content/drive/MyDrive/Colab Notebooks/doit_pandas-master/data/concat_1.csv')\n",
        "df2 = pd.read_csv('/content/drive/MyDrive/Colab Notebooks/doit_pandas-master/data/concat_2.csv')\n",
        "df3 = pd.read_csv('/content/drive/MyDrive/Colab Notebooks/doit_pandas-master/data/concat_3.csv')"
      ],
      "execution_count": null,
      "outputs": []
    },
    {
      "cell_type": "code",
      "metadata": {
        "colab": {
          "base_uri": "https://localhost:8080/"
        },
        "id": "VpWW746O2QDf",
        "outputId": "7cfe2459-0dd2-44f3-ef55-9bb56a9fd918"
      },
      "source": [
        "row_concat= pd.concat([df1,df2,df3])\n",
        "print(row_concat.iloc[3,])"
      ],
      "execution_count": null,
      "outputs": [
        {
          "output_type": "stream",
          "name": "stdout",
          "text": [
            "A    a3\n",
            "B    b3\n",
            "C    c3\n",
            "D    d3\n",
            "Name: 3, dtype: object\n"
          ]
        }
      ]
    },
    {
      "cell_type": "code",
      "metadata": {
        "colab": {
          "base_uri": "https://localhost:8080/",
          "height": 300
        },
        "id": "vL6fnhqx3FAG",
        "outputId": "45f2a141-0381-40de-d123-2f4ff982c072"
      },
      "source": [
        "# 시리즈를 concat을 이용하면 위와 같이 아래의 방향으로 데이터가 추가된지 않는다. \n",
        "# Becasue, 시리즈에는 열의 이름이 없기 때문에 새로운 열로 간주한다. ,\n",
        "# 그래서 열이름이 0인 새로운 열로 추가가되고, 많은 누락값이 생성된다.\n",
        "\n",
        "new_row_series = pd.Series(['n1','n2','n3','n4'])\n",
        "pd.concat([df1,new_row_series])"
      ],
      "execution_count": null,
      "outputs": [
        {
          "output_type": "execute_result",
          "data": {
            "text/html": [
              "<div>\n",
              "<style scoped>\n",
              "    .dataframe tbody tr th:only-of-type {\n",
              "        vertical-align: middle;\n",
              "    }\n",
              "\n",
              "    .dataframe tbody tr th {\n",
              "        vertical-align: top;\n",
              "    }\n",
              "\n",
              "    .dataframe thead th {\n",
              "        text-align: right;\n",
              "    }\n",
              "</style>\n",
              "<table border=\"1\" class=\"dataframe\">\n",
              "  <thead>\n",
              "    <tr style=\"text-align: right;\">\n",
              "      <th></th>\n",
              "      <th>A</th>\n",
              "      <th>B</th>\n",
              "      <th>C</th>\n",
              "      <th>D</th>\n",
              "      <th>0</th>\n",
              "    </tr>\n",
              "  </thead>\n",
              "  <tbody>\n",
              "    <tr>\n",
              "      <th>0</th>\n",
              "      <td>a0</td>\n",
              "      <td>b0</td>\n",
              "      <td>c0</td>\n",
              "      <td>d0</td>\n",
              "      <td>NaN</td>\n",
              "    </tr>\n",
              "    <tr>\n",
              "      <th>1</th>\n",
              "      <td>a1</td>\n",
              "      <td>b1</td>\n",
              "      <td>c1</td>\n",
              "      <td>d1</td>\n",
              "      <td>NaN</td>\n",
              "    </tr>\n",
              "    <tr>\n",
              "      <th>2</th>\n",
              "      <td>a2</td>\n",
              "      <td>b2</td>\n",
              "      <td>c2</td>\n",
              "      <td>d2</td>\n",
              "      <td>NaN</td>\n",
              "    </tr>\n",
              "    <tr>\n",
              "      <th>3</th>\n",
              "      <td>a3</td>\n",
              "      <td>b3</td>\n",
              "      <td>c3</td>\n",
              "      <td>d3</td>\n",
              "      <td>NaN</td>\n",
              "    </tr>\n",
              "    <tr>\n",
              "      <th>0</th>\n",
              "      <td>NaN</td>\n",
              "      <td>NaN</td>\n",
              "      <td>NaN</td>\n",
              "      <td>NaN</td>\n",
              "      <td>n1</td>\n",
              "    </tr>\n",
              "    <tr>\n",
              "      <th>1</th>\n",
              "      <td>NaN</td>\n",
              "      <td>NaN</td>\n",
              "      <td>NaN</td>\n",
              "      <td>NaN</td>\n",
              "      <td>n2</td>\n",
              "    </tr>\n",
              "    <tr>\n",
              "      <th>2</th>\n",
              "      <td>NaN</td>\n",
              "      <td>NaN</td>\n",
              "      <td>NaN</td>\n",
              "      <td>NaN</td>\n",
              "      <td>n3</td>\n",
              "    </tr>\n",
              "    <tr>\n",
              "      <th>3</th>\n",
              "      <td>NaN</td>\n",
              "      <td>NaN</td>\n",
              "      <td>NaN</td>\n",
              "      <td>NaN</td>\n",
              "      <td>n4</td>\n",
              "    </tr>\n",
              "  </tbody>\n",
              "</table>\n",
              "</div>"
            ],
            "text/plain": [
              "     A    B    C    D    0\n",
              "0   a0   b0   c0   d0  NaN\n",
              "1   a1   b1   c1   d1  NaN\n",
              "2   a2   b2   c2   d2  NaN\n",
              "3   a3   b3   c3   d3  NaN\n",
              "0  NaN  NaN  NaN  NaN   n1\n",
              "1  NaN  NaN  NaN  NaN   n2\n",
              "2  NaN  NaN  NaN  NaN   n3\n",
              "3  NaN  NaN  NaN  NaN   n4"
            ]
          },
          "metadata": {},
          "execution_count": 36
        }
      ]
    },
    {
      "cell_type": "code",
      "metadata": {
        "colab": {
          "base_uri": "https://localhost:8080/",
          "height": 243
        },
        "id": "LMZWZRgG4rTu",
        "outputId": "aa5fa96e-a4bd-4a8d-a863-0a81a3ce8786"
      },
      "source": [
        "#해당 시리즈를 열이름을 가지는 데이터프레임으로 변형한 뒤에 concat메소드를 써주면 우리가 원하는 값이 나옴\n",
        "# concat명령어는 한번에 2개이상의 데이터 프레임을 연결할 수 있다.,,\n",
        "# 추가할 데이터 프레임이 1개라면 append 사용해도 된다. \n",
        "new_row_df = pd.DataFrame([['n1','n2','n3','n4']],columns=['A','B','C','D'])\n",
        "print(new_row_df)\n",
        "pd.concat([df1,new_row_df])"
      ],
      "execution_count": null,
      "outputs": [
        {
          "output_type": "stream",
          "name": "stdout",
          "text": [
            "    A   B   C   D\n",
            "0  n1  n2  n3  n4\n"
          ]
        },
        {
          "output_type": "execute_result",
          "data": {
            "text/html": [
              "<div>\n",
              "<style scoped>\n",
              "    .dataframe tbody tr th:only-of-type {\n",
              "        vertical-align: middle;\n",
              "    }\n",
              "\n",
              "    .dataframe tbody tr th {\n",
              "        vertical-align: top;\n",
              "    }\n",
              "\n",
              "    .dataframe thead th {\n",
              "        text-align: right;\n",
              "    }\n",
              "</style>\n",
              "<table border=\"1\" class=\"dataframe\">\n",
              "  <thead>\n",
              "    <tr style=\"text-align: right;\">\n",
              "      <th></th>\n",
              "      <th>A</th>\n",
              "      <th>B</th>\n",
              "      <th>C</th>\n",
              "      <th>D</th>\n",
              "    </tr>\n",
              "  </thead>\n",
              "  <tbody>\n",
              "    <tr>\n",
              "      <th>0</th>\n",
              "      <td>a0</td>\n",
              "      <td>b0</td>\n",
              "      <td>c0</td>\n",
              "      <td>d0</td>\n",
              "    </tr>\n",
              "    <tr>\n",
              "      <th>1</th>\n",
              "      <td>a1</td>\n",
              "      <td>b1</td>\n",
              "      <td>c1</td>\n",
              "      <td>d1</td>\n",
              "    </tr>\n",
              "    <tr>\n",
              "      <th>2</th>\n",
              "      <td>a2</td>\n",
              "      <td>b2</td>\n",
              "      <td>c2</td>\n",
              "      <td>d2</td>\n",
              "    </tr>\n",
              "    <tr>\n",
              "      <th>3</th>\n",
              "      <td>a3</td>\n",
              "      <td>b3</td>\n",
              "      <td>c3</td>\n",
              "      <td>d3</td>\n",
              "    </tr>\n",
              "    <tr>\n",
              "      <th>0</th>\n",
              "      <td>n1</td>\n",
              "      <td>n2</td>\n",
              "      <td>n3</td>\n",
              "      <td>n4</td>\n",
              "    </tr>\n",
              "  </tbody>\n",
              "</table>\n",
              "</div>"
            ],
            "text/plain": [
              "    A   B   C   D\n",
              "0  a0  b0  c0  d0\n",
              "1  a1  b1  c1  d1\n",
              "2  a2  b2  c2  d2\n",
              "3  a3  b3  c3  d3\n",
              "0  n1  n2  n3  n4"
            ]
          },
          "metadata": {},
          "execution_count": 37
        }
      ]
    },
    {
      "cell_type": "code",
      "metadata": {
        "colab": {
          "base_uri": "https://localhost:8080/"
        },
        "id": "71wRS8fN5n2u",
        "outputId": "c7e9d226-bfa1-4c45-dcb5-83e3ca5ab773"
      },
      "source": [
        "#append\n",
        "print(df1.append(new_row_df))"
      ],
      "execution_count": null,
      "outputs": [
        {
          "output_type": "stream",
          "name": "stdout",
          "text": [
            "    A   B   C   D\n",
            "0  a0  b0  c0  d0\n",
            "1  a1  b1  c1  d1\n",
            "2  a2  b2  c2  d2\n",
            "3  a3  b3  c3  d3\n",
            "0  n1  n2  n3  n4\n"
          ]
        }
      ]
    },
    {
      "cell_type": "code",
      "metadata": {
        "colab": {
          "base_uri": "https://localhost:8080/"
        },
        "id": "MiKrE_n16LBJ",
        "outputId": "87cdfdde-f18a-4984-ddc4-65d60ac4d5fe"
      },
      "source": [
        "#dictionary 사용 append\n",
        "data_dict = {'A':'n1','B':'n2','C':'n3','D':'n4'}\n",
        "print(df1.append(data_dict,ignore_index=True))\n",
        "#ignore_index : 데이터 프레임의 인덱스를 0부터 다시 시작하여 데이터 프레임을 생성한다. "
      ],
      "execution_count": null,
      "outputs": [
        {
          "output_type": "stream",
          "name": "stdout",
          "text": [
            "    A   B   C   D\n",
            "0  a0  b0  c0  d0\n",
            "1  a1  b1  c1  d1\n",
            "2  a2  b2  c2  d2\n",
            "3  a3  b3  c3  d3\n",
            "4  n1  n2  n3  n4\n"
          ]
        }
      ]
    },
    {
      "cell_type": "code",
      "metadata": {
        "colab": {
          "base_uri": "https://localhost:8080/"
        },
        "id": "QWKd3Fed-84I",
        "outputId": "5dffd17a-4bbd-4112-d0df-7d144a308354"
      },
      "source": [
        "col_concat = pd.concat([df1,df2,df3],axis=1)\n",
        "print(col_concat)"
      ],
      "execution_count": null,
      "outputs": [
        {
          "output_type": "stream",
          "name": "stdout",
          "text": [
            "    A   B   C   D   A   B   C   D    A    B    C    D\n",
            "0  a0  b0  c0  d0  a4  b4  c4  d4   a8   b8   c8   d8\n",
            "1  a1  b1  c1  d1  a5  b5  c5  d5   a9   b9   c9   d9\n",
            "2  a2  b2  c2  d2  a6  b6  c6  d6  a10  b10  c10  d10\n",
            "3  a3  b3  c3  d3  a7  b7  c7  d7  a11  b11  c11  d11\n"
          ]
        }
      ]
    },
    {
      "cell_type": "code",
      "metadata": {
        "colab": {
          "base_uri": "https://localhost:8080/"
        },
        "id": "DCCXKmP8_Ic9",
        "outputId": "fab62700-e3c7-4d35-deab-57d695b1e5a9"
      },
      "source": [
        "#해당 프레임에 존재하지 않는 열이름을 입력하고 값을 입력할 경우, 새로운열이 마지막에 추가가 된다.\n",
        "print(col_concat['A'])\n",
        "col_concat['newew'] = ['n1','n2','n3','n4']\n",
        "print(col_concat)"
      ],
      "execution_count": null,
      "outputs": [
        {
          "output_type": "stream",
          "name": "stdout",
          "text": [
            "    A   A    A\n",
            "0  a0  a4   a8\n",
            "1  a1  a5   a9\n",
            "2  a2  a6  a10\n",
            "3  a3  a7  a11\n",
            "    A   B   C   D   A   B   C   D    A    B    C    D newew\n",
            "0  a0  b0  c0  d0  a4  b4  c4  d4   a8   b8   c8   d8    n1\n",
            "1  a1  b1  c1  d1  a5  b5  c5  d5   a9   b9   c9   d9    n2\n",
            "2  a2  b2  c2  d2  a6  b6  c6  d6  a10  b10  c10  d10    n3\n",
            "3  a3  b3  c3  d3  a7  b7  c7  d7  a11  b11  c11  d11    n4\n"
          ]
        }
      ]
    },
    {
      "cell_type": "code",
      "metadata": {
        "colab": {
          "base_uri": "https://localhost:8080/",
          "height": 175
        },
        "id": "C7iAJhVs_5cw",
        "outputId": "92e504af-84f1-4992-97f3-36ad1a25938a"
      },
      "source": [
        "#인덱스를 초기화하지 않았을 경우\n",
        "pd.concat([df1,df2,df3],axis=1)\n",
        "#인덱스를 열 기준으로 0부터 초기화 시켜줄 경우\n",
        "pd.concat([df1,df2,df3],axis=1,ignore_index=True)"
      ],
      "execution_count": null,
      "outputs": [
        {
          "output_type": "execute_result",
          "data": {
            "text/html": [
              "<div>\n",
              "<style scoped>\n",
              "    .dataframe tbody tr th:only-of-type {\n",
              "        vertical-align: middle;\n",
              "    }\n",
              "\n",
              "    .dataframe tbody tr th {\n",
              "        vertical-align: top;\n",
              "    }\n",
              "\n",
              "    .dataframe thead th {\n",
              "        text-align: right;\n",
              "    }\n",
              "</style>\n",
              "<table border=\"1\" class=\"dataframe\">\n",
              "  <thead>\n",
              "    <tr style=\"text-align: right;\">\n",
              "      <th></th>\n",
              "      <th>0</th>\n",
              "      <th>1</th>\n",
              "      <th>2</th>\n",
              "      <th>3</th>\n",
              "      <th>4</th>\n",
              "      <th>5</th>\n",
              "      <th>6</th>\n",
              "      <th>7</th>\n",
              "      <th>8</th>\n",
              "      <th>9</th>\n",
              "      <th>10</th>\n",
              "      <th>11</th>\n",
              "    </tr>\n",
              "  </thead>\n",
              "  <tbody>\n",
              "    <tr>\n",
              "      <th>0</th>\n",
              "      <td>a0</td>\n",
              "      <td>b0</td>\n",
              "      <td>c0</td>\n",
              "      <td>d0</td>\n",
              "      <td>a4</td>\n",
              "      <td>b4</td>\n",
              "      <td>c4</td>\n",
              "      <td>d4</td>\n",
              "      <td>a8</td>\n",
              "      <td>b8</td>\n",
              "      <td>c8</td>\n",
              "      <td>d8</td>\n",
              "    </tr>\n",
              "    <tr>\n",
              "      <th>1</th>\n",
              "      <td>a1</td>\n",
              "      <td>b1</td>\n",
              "      <td>c1</td>\n",
              "      <td>d1</td>\n",
              "      <td>a5</td>\n",
              "      <td>b5</td>\n",
              "      <td>c5</td>\n",
              "      <td>d5</td>\n",
              "      <td>a9</td>\n",
              "      <td>b9</td>\n",
              "      <td>c9</td>\n",
              "      <td>d9</td>\n",
              "    </tr>\n",
              "    <tr>\n",
              "      <th>2</th>\n",
              "      <td>a2</td>\n",
              "      <td>b2</td>\n",
              "      <td>c2</td>\n",
              "      <td>d2</td>\n",
              "      <td>a6</td>\n",
              "      <td>b6</td>\n",
              "      <td>c6</td>\n",
              "      <td>d6</td>\n",
              "      <td>a10</td>\n",
              "      <td>b10</td>\n",
              "      <td>c10</td>\n",
              "      <td>d10</td>\n",
              "    </tr>\n",
              "    <tr>\n",
              "      <th>3</th>\n",
              "      <td>a3</td>\n",
              "      <td>b3</td>\n",
              "      <td>c3</td>\n",
              "      <td>d3</td>\n",
              "      <td>a7</td>\n",
              "      <td>b7</td>\n",
              "      <td>c7</td>\n",
              "      <td>d7</td>\n",
              "      <td>a11</td>\n",
              "      <td>b11</td>\n",
              "      <td>c11</td>\n",
              "      <td>d11</td>\n",
              "    </tr>\n",
              "  </tbody>\n",
              "</table>\n",
              "</div>"
            ],
            "text/plain": [
              "   0   1   2   3   4   5   6   7    8    9    10   11\n",
              "0  a0  b0  c0  d0  a4  b4  c4  d4   a8   b8   c8   d8\n",
              "1  a1  b1  c1  d1  a5  b5  c5  d5   a9   b9   c9   d9\n",
              "2  a2  b2  c2  d2  a6  b6  c6  d6  a10  b10  c10  d10\n",
              "3  a3  b3  c3  d3  a7  b7  c7  d7  a11  b11  c11  d11"
            ]
          },
          "metadata": {},
          "execution_count": 42
        }
      ]
    },
    {
      "cell_type": "code",
      "metadata": {
        "colab": {
          "base_uri": "https://localhost:8080/"
        },
        "id": "AUgtFWKwApef",
        "outputId": "fd7a8fa1-5e2b-4b5a-c807-ecd7ca4b0620"
      },
      "source": [
        "df1.columns=['A','B','C','D']\n",
        "df2.columns=['E','F','G','H']\n",
        "df3.columns=['A','C','F','H']\n",
        "#공통 열과 공총 인덱스만 연결하기 \n",
        "row_concat=pd.concat([df1,df2,df3])\n",
        "print(row_concat)\n",
        "## 모두 공통된 열이 아니기에 누락값이 여러개 발생한다. "
      ],
      "execution_count": null,
      "outputs": [
        {
          "output_type": "stream",
          "name": "stdout",
          "text": [
            "     A    B    C    D    E    F    G    H\n",
            "0   a0   b0   c0   d0  NaN  NaN  NaN  NaN\n",
            "1   a1   b1   c1   d1  NaN  NaN  NaN  NaN\n",
            "2   a2   b2   c2   d2  NaN  NaN  NaN  NaN\n",
            "3   a3   b3   c3   d3  NaN  NaN  NaN  NaN\n",
            "0  NaN  NaN  NaN  NaN   a4   b4   c4   d4\n",
            "1  NaN  NaN  NaN  NaN   a5   b5   c5   d5\n",
            "2  NaN  NaN  NaN  NaN   a6   b6   c6   d6\n",
            "3  NaN  NaN  NaN  NaN   a7   b7   c7   d7\n",
            "0   a8  NaN   b8  NaN  NaN   c8  NaN   d8\n",
            "1   a9  NaN   b9  NaN  NaN   c9  NaN   d9\n",
            "2  a10  NaN  b10  NaN  NaN  c10  NaN  d10\n",
            "3  a11  NaN  b11  NaN  NaN  c11  NaN  d11\n"
          ]
        }
      ]
    },
    {
      "cell_type": "code",
      "metadata": {
        "colab": {
          "base_uri": "https://localhost:8080/"
        },
        "id": "Fv09vUonB4Sj",
        "outputId": "22c11630-f477-42f2-98b2-c058eb86cf00"
      },
      "source": [
        "#누락값 없이 데이터 연결하기--> 공통열만 골라 연결하기,\n",
        "print(pd.concat([df1,df2,df3],join='inner'))\n",
        "# 공통 열만 골라 연결\n",
        "print(pd.concat([df1,df3],ignore_index=False,join='inner'))"
      ],
      "execution_count": null,
      "outputs": [
        {
          "output_type": "stream",
          "name": "stdout",
          "text": [
            "Empty DataFrame\n",
            "Columns: []\n",
            "Index: [0, 1, 2, 3, 0, 1, 2, 3, 0, 1, 2, 3]\n",
            "     A    C\n",
            "0   a0   c0\n",
            "1   a1   c1\n",
            "2   a2   c2\n",
            "3   a3   c3\n",
            "0   a8   b8\n",
            "1   a9   b9\n",
            "2  a10  b10\n",
            "3  a11  b11\n"
          ]
        }
      ]
    },
    {
      "cell_type": "markdown",
      "metadata": {
        "id": "w_8GP_dzDrJq"
      },
      "source": [
        "--내부조인(inner): 둘 이상의 데이터프레임에서 조건에 맞는 행을 연결하는 것\n",
        "\n",
        "--외부조인(Outer): 외부조인은 두 프레임중 어떤 데이터프레임을 기준으로 할 것인지 에 따라 왼쪽 외부조인(Left Outer Join)과 오른쪽 외부조인(Right Outer Join)으로 나눌 수 있다. 왼쪽 외부 조인은 연결할때 왼쪽 데이터프레임을 모두 포함하고, 오른쪽은 오른쪽 프레임을 모두 포함한다. ,\n",
        "완전 외부조인은 왼쪽과 오른쪽의 데이터프레임을 모두 포함하여 연결 "
      ]
    },
    {
      "cell_type": "code",
      "metadata": {
        "colab": {
          "base_uri": "https://localhost:8080/"
        },
        "id": "_zXB9aVSEV2k",
        "outputId": "264352a4-8d1d-4de2-ca8e-a3c0c75b8c37"
      },
      "source": [
        "# 판다스 데이터 연결전용 메서드 merge\n",
        "person = pd.read_csv('/content/drive/MyDrive/Colab Notebooks/doit_pandas-master/data/survey_person.csv')\n",
        "site = pd.read_csv('/content/drive/MyDrive/Colab Notebooks/doit_pandas-master/data/survey_site.csv')\n",
        "survey = pd.read_csv('/content/drive/MyDrive/Colab Notebooks/doit_pandas-master/data/survey_survey.csv')\n",
        "visited = pd.read_csv('/content/drive/MyDrive/Colab Notebooks/doit_pandas-master/data/survey_visited.csv')\n",
        "print(person)\n",
        "print(site)\n",
        "print(survey)\n",
        "print(visited)\n",
        "visited_subset = visited.loc[[0,2,6],]"
      ],
      "execution_count": null,
      "outputs": [
        {
          "output_type": "stream",
          "name": "stdout",
          "text": [
            "      ident   personal    family\n",
            "0      dyer    William      Dyer\n",
            "1        pb      Frank   Pabodie\n",
            "2      lake   Anderson      Lake\n",
            "3       roe  Valentina   Roerich\n",
            "4  danforth      Frank  Danforth\n",
            "    name    lat    long\n",
            "0   DR-1 -49.85 -128.57\n",
            "1   DR-3 -47.15 -126.72\n",
            "2  MSK-4 -48.87 -123.40\n",
            "    taken person quant  reading\n",
            "0     619   dyer   rad     9.82\n",
            "1     619   dyer   sal     0.13\n",
            "2     622   dyer   rad     7.80\n",
            "3     622   dyer   sal     0.09\n",
            "4     734     pb   rad     8.41\n",
            "5     734   lake   sal     0.05\n",
            "6     734     pb  temp   -21.50\n",
            "7     735     pb   rad     7.22\n",
            "8     735    NaN   sal     0.06\n",
            "9     735    NaN  temp   -26.00\n",
            "10    751     pb   rad     4.35\n",
            "11    751     pb  temp   -18.50\n",
            "12    751   lake   sal     0.10\n",
            "13    752   lake   rad     2.19\n",
            "14    752   lake   sal     0.09\n",
            "15    752   lake  temp   -16.00\n",
            "16    752    roe   sal    41.60\n",
            "17    837   lake   rad     1.46\n",
            "18    837   lake   sal     0.21\n",
            "19    837    roe   sal    22.50\n",
            "20    844    roe   rad    11.25\n",
            "   ident   site       dated\n",
            "0    619   DR-1  1927-02-08\n",
            "1    622   DR-1  1927-02-10\n",
            "2    734   DR-3  1939-01-07\n",
            "3    735   DR-3  1930-01-12\n",
            "4    751   DR-3  1930-02-26\n",
            "5    752   DR-3         NaN\n",
            "6    837  MSK-4  1932-01-14\n",
            "7    844   DR-1  1932-03-22\n"
          ]
        }
      ]
    },
    {
      "cell_type": "markdown",
      "metadata": {
        "id": "vSUPpT5vIkT7"
      },
      "source": [
        "merge 메서드에서 왼쪽 값을 left_on으로, 오른쪽을 Right로 지정하게 된다. \n",
        "left_on, right_on 인자는 값이 일치해야 할 왼쪽과 오른쪽 데이터 프레임열을 지정한다. \n",
        "왼쪽 데이터프레임의 열과 오른쪽 데이터 프레임의 열의 값이 일치하면 왼쪽 데이터 프레임을 기준으로 연결"
      ]
    },
    {
      "cell_type": "code",
      "metadata": {
        "colab": {
          "base_uri": "https://localhost:8080/"
        },
        "id": "Qts0k7j0IRoe",
        "outputId": "16cc568a-64ea-4b87-b9e0-ac7698ca0050"
      },
      "source": [
        "print(site)\n",
        "print(visited_subset)\n",
        "print(visited)\n",
        "\n",
        "o2o_merge = site.merge(visited_subset, left_on='name',right_on='site')\n",
        "print(o2o_merge)\n",
        "\n",
        "#print된 두값을 볼때 같은 값으로 name과 site가 존재한다.이 둘을 기준으로 연결하면 해당 프레임이 완성된다. \n",
        "#left_on, right_on에 전달하는 값 여러개도 상관없음"
      ],
      "execution_count": null,
      "outputs": [
        {
          "output_type": "stream",
          "name": "stdout",
          "text": [
            "    name    lat    long\n",
            "0   DR-1 -49.85 -128.57\n",
            "1   DR-3 -47.15 -126.72\n",
            "2  MSK-4 -48.87 -123.40\n",
            "   ident   site       dated\n",
            "0    619   DR-1  1927-02-08\n",
            "2    734   DR-3  1939-01-07\n",
            "6    837  MSK-4  1932-01-14\n",
            "   ident   site       dated\n",
            "0    619   DR-1  1927-02-08\n",
            "1    622   DR-1  1927-02-10\n",
            "2    734   DR-3  1939-01-07\n",
            "3    735   DR-3  1930-01-12\n",
            "4    751   DR-3  1930-02-26\n",
            "5    752   DR-3         NaN\n",
            "6    837  MSK-4  1932-01-14\n",
            "7    844   DR-1  1932-03-22\n",
            "    name    lat    long  ident   site       dated\n",
            "0   DR-1 -49.85 -128.57    619   DR-1  1927-02-08\n",
            "1   DR-3 -47.15 -126.72    734   DR-3  1939-01-07\n",
            "2  MSK-4 -48.87 -123.40    837  MSK-4  1932-01-14\n"
          ]
        }
      ]
    },
    {
      "cell_type": "code",
      "metadata": {
        "colab": {
          "base_uri": "https://localhost:8080/"
        },
        "id": "NwRTfUYZKB5y",
        "outputId": "f8c2cc70-8c0c-45c8-f67f-a31d53930db8"
      },
      "source": [
        "m2o_merge = site.merge(visited,left_on='name',right_on='site')\n",
        "print(m2o_merge)"
      ],
      "execution_count": null,
      "outputs": [
        {
          "output_type": "stream",
          "name": "stdout",
          "text": [
            "    name    lat    long  ident   site       dated\n",
            "0   DR-1 -49.85 -128.57    619   DR-1  1927-02-08\n",
            "1   DR-1 -49.85 -128.57    622   DR-1  1927-02-10\n",
            "2   DR-1 -49.85 -128.57    844   DR-1  1932-03-22\n",
            "3   DR-3 -47.15 -126.72    734   DR-3  1939-01-07\n",
            "4   DR-3 -47.15 -126.72    735   DR-3  1930-01-12\n",
            "5   DR-3 -47.15 -126.72    751   DR-3  1930-02-26\n",
            "6   DR-3 -47.15 -126.72    752   DR-3         NaN\n",
            "7  MSK-4 -48.87 -123.40    837  MSK-4  1932-01-14\n"
          ]
        }
      ]
    },
    {
      "cell_type": "code",
      "metadata": {
        "colab": {
          "base_uri": "https://localhost:8080/"
        },
        "id": "tFhF_0pLKhPW",
        "outputId": "a3d1a1c2-973e-4999-8b3b-0cdc477e761f"
      },
      "source": [
        "ps = person.merge(survey,left_on='ident',right_on='person')\n",
        "print(ps)"
      ],
      "execution_count": null,
      "outputs": [
        {
          "output_type": "stream",
          "name": "stdout",
          "text": [
            "   ident   personal   family  taken person quant  reading\n",
            "0   dyer    William     Dyer    619   dyer   rad     9.82\n",
            "1   dyer    William     Dyer    619   dyer   sal     0.13\n",
            "2   dyer    William     Dyer    622   dyer   rad     7.80\n",
            "3   dyer    William     Dyer    622   dyer   sal     0.09\n",
            "4     pb      Frank  Pabodie    734     pb   rad     8.41\n",
            "5     pb      Frank  Pabodie    734     pb  temp   -21.50\n",
            "6     pb      Frank  Pabodie    735     pb   rad     7.22\n",
            "7     pb      Frank  Pabodie    751     pb   rad     4.35\n",
            "8     pb      Frank  Pabodie    751     pb  temp   -18.50\n",
            "9   lake   Anderson     Lake    734   lake   sal     0.05\n",
            "10  lake   Anderson     Lake    751   lake   sal     0.10\n",
            "11  lake   Anderson     Lake    752   lake   rad     2.19\n",
            "12  lake   Anderson     Lake    752   lake   sal     0.09\n",
            "13  lake   Anderson     Lake    752   lake  temp   -16.00\n",
            "14  lake   Anderson     Lake    837   lake   rad     1.46\n",
            "15  lake   Anderson     Lake    837   lake   sal     0.21\n",
            "16   roe  Valentina  Roerich    752    roe   sal    41.60\n",
            "17   roe  Valentina  Roerich    837    roe   sal    22.50\n",
            "18   roe  Valentina  Roerich    844    roe   rad    11.25\n"
          ]
        }
      ]
    },
    {
      "cell_type": "code",
      "metadata": {
        "colab": {
          "base_uri": "https://localhost:8080/"
        },
        "id": "PCcOE2MOK197",
        "outputId": "97dab4eb-954e-4372-b299-a695b1f03242"
      },
      "source": [
        "vs = visited.merge(survey,left_on='ident',right_on='taken')\n",
        "print(vs)"
      ],
      "execution_count": null,
      "outputs": [
        {
          "output_type": "stream",
          "name": "stdout",
          "text": [
            "    ident   site       dated  taken person quant  reading\n",
            "0     619   DR-1  1927-02-08    619   dyer   rad     9.82\n",
            "1     619   DR-1  1927-02-08    619   dyer   sal     0.13\n",
            "2     622   DR-1  1927-02-10    622   dyer   rad     7.80\n",
            "3     622   DR-1  1927-02-10    622   dyer   sal     0.09\n",
            "4     734   DR-3  1939-01-07    734     pb   rad     8.41\n",
            "5     734   DR-3  1939-01-07    734   lake   sal     0.05\n",
            "6     734   DR-3  1939-01-07    734     pb  temp   -21.50\n",
            "7     735   DR-3  1930-01-12    735     pb   rad     7.22\n",
            "8     735   DR-3  1930-01-12    735    NaN   sal     0.06\n",
            "9     735   DR-3  1930-01-12    735    NaN  temp   -26.00\n",
            "10    751   DR-3  1930-02-26    751     pb   rad     4.35\n",
            "11    751   DR-3  1930-02-26    751     pb  temp   -18.50\n",
            "12    751   DR-3  1930-02-26    751   lake   sal     0.10\n",
            "13    752   DR-3         NaN    752   lake   rad     2.19\n",
            "14    752   DR-3         NaN    752   lake   sal     0.09\n",
            "15    752   DR-3         NaN    752   lake  temp   -16.00\n",
            "16    752   DR-3         NaN    752    roe   sal    41.60\n",
            "17    837  MSK-4  1932-01-14    837   lake   rad     1.46\n",
            "18    837  MSK-4  1932-01-14    837   lake   sal     0.21\n",
            "19    837  MSK-4  1932-01-14    837    roe   sal    22.50\n",
            "20    844   DR-1  1932-03-22    844    roe   rad    11.25\n"
          ]
        }
      ]
    },
    {
      "cell_type": "markdown",
      "metadata": {
        "id": "aOwASo6LMKJt"
      },
      "source": [
        "`누락값`\n",
        "누락값은 0, '' 데이터도 아님 완전한 다른 데이터 ! ,\n",
        "\n",
        "자기자신과 비교해도 **False**\n",
        "\n",
        "isnull(NAN)  ==> 유일하게 True,,,값이 없다,!"
      ]
    },
    {
      "cell_type": "code",
      "metadata": {
        "id": "5Q7jXbF4Lg6U"
      },
      "source": [
        "from numpy import NaN,NAN,nan\n",
        "#누락값이 생기는 이유, \n",
        "# 데이터를 불러오거나 데이터연결, 입력과정에서 생길 수있음"
      ],
      "execution_count": null,
      "outputs": []
    },
    {
      "cell_type": "markdown",
      "metadata": {
        "id": "LZ7D9Be_NpB_"
      },
      "source": [
        "\n",
        "\n",
        "1.   누락값이 있는 데이터 집합을 연결할 때 누락값이 생기는 경우\n",
        "\n",
        "\n"
      ]
    },
    {
      "cell_type": "code",
      "metadata": {
        "colab": {
          "base_uri": "https://localhost:8080/"
        },
        "id": "0jxXHcEeNvlC",
        "outputId": "1935d1a0-da21-4ba3-ea33-4cf4ef87e326"
      },
      "source": [
        "print(vs)"
      ],
      "execution_count": null,
      "outputs": [
        {
          "output_type": "stream",
          "name": "stdout",
          "text": [
            "    ident   site       dated  taken person quant  reading\n",
            "0     619   DR-1  1927-02-08    619   dyer   rad     9.82\n",
            "1     619   DR-1  1927-02-08    619   dyer   sal     0.13\n",
            "2     622   DR-1  1927-02-10    622   dyer   rad     7.80\n",
            "3     622   DR-1  1927-02-10    622   dyer   sal     0.09\n",
            "4     734   DR-3  1939-01-07    734     pb   rad     8.41\n",
            "5     734   DR-3  1939-01-07    734   lake   sal     0.05\n",
            "6     734   DR-3  1939-01-07    734     pb  temp   -21.50\n",
            "7     735   DR-3  1930-01-12    735     pb   rad     7.22\n",
            "8     735   DR-3  1930-01-12    735    NaN   sal     0.06\n",
            "9     735   DR-3  1930-01-12    735    NaN  temp   -26.00\n",
            "10    751   DR-3  1930-02-26    751     pb   rad     4.35\n",
            "11    751   DR-3  1930-02-26    751     pb  temp   -18.50\n",
            "12    751   DR-3  1930-02-26    751   lake   sal     0.10\n",
            "13    752   DR-3         NaN    752   lake   rad     2.19\n",
            "14    752   DR-3         NaN    752   lake   sal     0.09\n",
            "15    752   DR-3         NaN    752   lake  temp   -16.00\n",
            "16    752   DR-3         NaN    752    roe   sal    41.60\n",
            "17    837  MSK-4  1932-01-14    837   lake   rad     1.46\n",
            "18    837  MSK-4  1932-01-14    837   lake   sal     0.21\n",
            "19    837  MSK-4  1932-01-14    837    roe   sal    22.50\n",
            "20    844   DR-1  1932-03-22    844    roe   rad    11.25\n"
          ]
        }
      ]
    },
    {
      "cell_type": "markdown",
      "metadata": {
        "id": "tqXVu5YqN_ej"
      },
      "source": [
        "3.데이터를 입력할 때 누락값이 생기는 경우\n",
        "\n",
        "예시는 시리즈를 생성할때 데이터 프레임에 없는 여로가 행 데이터를 입력하여 누락값이 생기는 경우\n"
      ]
    },
    {
      "cell_type": "code",
      "metadata": {
        "colab": {
          "base_uri": "https://localhost:8080/"
        },
        "id": "KbvU2QwoN-nh",
        "outputId": "fb300be1-ea72-4f5a-c905-2d0b2d1d5976"
      },
      "source": [
        "num_legs = pd.Series({'goat':4,'amoeba':nan})\n",
        "print(num_legs)\n",
        "#==> 그냥 자체로 만들어 버릴 수 있어\n"
      ],
      "execution_count": null,
      "outputs": [
        {
          "output_type": "stream",
          "name": "stdout",
          "text": [
            "goat      4.0\n",
            "amoeba    NaN\n",
            "dtype: float64\n"
          ]
        }
      ]
    },
    {
      "cell_type": "markdown",
      "metadata": {
        "id": "6n4RzSgqPL05"
      },
      "source": [
        "4. 범위를 지정하여 데이터를 추출할때 누락값이 생기는 경우\n"
      ]
    },
    {
      "cell_type": "code",
      "metadata": {
        "colab": {
          "base_uri": "https://localhost:8080/"
        },
        "id": "gc-kcFXHPLSH",
        "outputId": "2b9b18f5-3d62-4847-b6d7-abcc08e553c2"
      },
      "source": [
        "gapminder = pd.read_csv('/content/drive/MyDrive/Colab Notebooks/doit_pandas-master/data/gapminder.tsv',sep='\\t')\n",
        "life_exp = gapminder.groupby(['year'])['lifeExp'].mean()\n",
        "print(life_exp)\n",
        "# life_Exp열에 없었던 연도가 포함되기 때문에 누락값이 많이 발생한다."
      ],
      "execution_count": null,
      "outputs": [
        {
          "output_type": "stream",
          "name": "stdout",
          "text": [
            "year\n",
            "1952    49.057620\n",
            "1957    51.507401\n",
            "1962    53.609249\n",
            "1967    55.678290\n",
            "1972    57.647386\n",
            "1977    59.570157\n",
            "1982    61.533197\n",
            "1987    63.212613\n",
            "1992    64.160338\n",
            "1997    65.014676\n",
            "2002    65.694923\n",
            "2007    67.007423\n",
            "Name: lifeExp, dtype: float64\n"
          ]
        }
      ]
    },
    {
      "cell_type": "markdown",
      "metadata": {
        "id": "4yYtlDSuQcs5"
      },
      "source": [
        " ** **누락값의개수****"
      ]
    },
    {
      "cell_type": "code",
      "metadata": {
        "id": "Cmz-51o2QI73"
      },
      "source": [
        "ebola = pd.read_csv('/content/drive/MyDrive/Colab Notebooks/doit_pandas-master/data/country_timeseries.csv')"
      ],
      "execution_count": null,
      "outputs": []
    },
    {
      "cell_type": "code",
      "metadata": {
        "colab": {
          "base_uri": "https://localhost:8080/"
        },
        "id": "A3sjowRgQQAA",
        "outputId": "6119ac52-efba-4b6d-b32d-d7c64184d846"
      },
      "source": [
        "print(ebola.count())"
      ],
      "execution_count": null,
      "outputs": [
        {
          "output_type": "stream",
          "name": "stdout",
          "text": [
            "Date                   122\n",
            "Day                    122\n",
            "Cases_Guinea            93\n",
            "Cases_Liberia           83\n",
            "Cases_SierraLeone       87\n",
            "Cases_Nigeria           38\n",
            "Cases_Senegal           25\n",
            "Cases_UnitedStates      18\n",
            "Cases_Spain             16\n",
            "Cases_Mali              12\n",
            "Deaths_Guinea           92\n",
            "Deaths_Liberia          81\n",
            "Deaths_SierraLeone      87\n",
            "Deaths_Nigeria          38\n",
            "Deaths_Senegal          22\n",
            "Deaths_UnitedStates     18\n",
            "Deaths_Spain            16\n",
            "Deaths_Mali             12\n",
            "dtype: int64\n"
          ]
        }
      ]
    },
    {
      "cell_type": "code",
      "metadata": {
        "colab": {
          "base_uri": "https://localhost:8080/"
        },
        "id": "gHvUCLEKUzsX",
        "outputId": "dff919c6-fd16-4064-c847-837e12be86d4"
      },
      "source": [
        "#shape[0]에는 전체 행의 데티어 개수가 저장되있음\n",
        "num_rows = ebola.shape[0]\n",
        "num_missing = num_rows-ebola.count()\n",
        "print(num_missing)"
      ],
      "execution_count": null,
      "outputs": [
        {
          "output_type": "stream",
          "name": "stdout",
          "text": [
            "Date                     0\n",
            "Day                      0\n",
            "Cases_Guinea            29\n",
            "Cases_Liberia           39\n",
            "Cases_SierraLeone       35\n",
            "Cases_Nigeria           84\n",
            "Cases_Senegal           97\n",
            "Cases_UnitedStates     104\n",
            "Cases_Spain            106\n",
            "Cases_Mali             110\n",
            "Deaths_Guinea           30\n",
            "Deaths_Liberia          41\n",
            "Deaths_SierraLeone      35\n",
            "Deaths_Nigeria          84\n",
            "Deaths_Senegal         100\n",
            "Deaths_UnitedStates    104\n",
            "Deaths_Spain           106\n",
            "Deaths_Mali            110\n",
            "dtype: int64\n"
          ]
        }
      ]
    },
    {
      "cell_type": "code",
      "metadata": {
        "colab": {
          "base_uri": "https://localhost:8080/"
        },
        "id": "Cie5W4wvVlGQ",
        "outputId": "1191fd71-c6ba-413e-9bd0-43d339c8d522"
      },
      "source": [
        "print(ebola.Cases_Guinea.value_counts(dropna=False).head())"
      ],
      "execution_count": null,
      "outputs": [
        {
          "output_type": "stream",
          "name": "stdout",
          "text": [
            "NaN      29\n",
            "86.0      3\n",
            "495.0     2\n",
            "112.0     2\n",
            "390.0     2\n",
            "Name: Cases_Guinea, dtype: int64\n"
          ]
        }
      ]
    },
    {
      "cell_type": "markdown",
      "metadata": {
        "id": "oefg5cQvVvw_"
      },
      "source": [
        "**누락값 처리하기**\n",
        "\n",
        "```\n",
        "fillna(0) :누락값에 0을 채운다.\n",
        "fillna(method='ffill'): 누락값의 앞의 값으로 대체한다. 없을 경우, 그대로\n",
        "fillna(method='bfill'): 누락값의 뒤의 값으로 누락값을 대체한다. \n",
        "\n",
        "```\n",
        "\n"
      ]
    },
    {
      "cell_type": "code",
      "metadata": {
        "colab": {
          "base_uri": "https://localhost:8080/"
        },
        "id": "umhemtu2VzoI",
        "outputId": "2b30f4e4-c210-4c75-dbc0-9cabc7c498fa"
      },
      "source": [
        "#누락값 변경하기 \n",
        "print(ebola.fillna(0).iloc[0:10,0:5])\n",
        "#fillna에 0을 대입하면, 누락값을 모두 0으로 변경한다. \n",
        "#fillna(method='ffill')이면 누락값이 나타나기 전의 값으로 누락값이변경이 된다ㅏ. 앞의 값하고 같게 바낌,\n",
        "#fillna는 누락값을 무엇으로 채울것인지 정해주는 메소드이다. "
      ],
      "execution_count": null,
      "outputs": [
        {
          "output_type": "stream",
          "name": "stdout",
          "text": [
            "         Date  Day  Cases_Guinea  Cases_Liberia  Cases_SierraLeone\n",
            "0    1/5/2015  289        2776.0            0.0            10030.0\n",
            "1    1/4/2015  288        2775.0            0.0             9780.0\n",
            "2    1/3/2015  287        2769.0         8166.0             9722.0\n",
            "3    1/2/2015  286           0.0         8157.0                0.0\n",
            "4  12/31/2014  284        2730.0         8115.0             9633.0\n",
            "5  12/28/2014  281        2706.0         8018.0             9446.0\n",
            "6  12/27/2014  280        2695.0            0.0             9409.0\n",
            "7  12/24/2014  277        2630.0         7977.0             9203.0\n",
            "8  12/21/2014  273        2597.0            0.0             9004.0\n",
            "9  12/20/2014  272        2571.0         7862.0             8939.0\n"
          ]
        }
      ]
    },
    {
      "cell_type": "code",
      "metadata": {
        "colab": {
          "base_uri": "https://localhost:8080/"
        },
        "id": "-TOKUZDyWhQB",
        "outputId": "e164e403-57df-4f8a-ec8d-5791cfe8e255"
      },
      "source": [
        "print(ebola.fillna(method='ffill').iloc[0:10,0:5])\n",
        "print(ebola.fillna(method='bfill').iloc[0:10,0:5])"
      ],
      "execution_count": null,
      "outputs": [
        {
          "output_type": "stream",
          "name": "stdout",
          "text": [
            "         Date  Day  Cases_Guinea  Cases_Liberia  Cases_SierraLeone\n",
            "0    1/5/2015  289        2776.0            NaN            10030.0\n",
            "1    1/4/2015  288        2775.0            NaN             9780.0\n",
            "2    1/3/2015  287        2769.0         8166.0             9722.0\n",
            "3    1/2/2015  286        2769.0         8157.0             9722.0\n",
            "4  12/31/2014  284        2730.0         8115.0             9633.0\n",
            "5  12/28/2014  281        2706.0         8018.0             9446.0\n",
            "6  12/27/2014  280        2695.0         8018.0             9409.0\n",
            "7  12/24/2014  277        2630.0         7977.0             9203.0\n",
            "8  12/21/2014  273        2597.0         7977.0             9004.0\n",
            "9  12/20/2014  272        2571.0         7862.0             8939.0\n",
            "         Date  Day  Cases_Guinea  Cases_Liberia  Cases_SierraLeone\n",
            "0    1/5/2015  289        2776.0         8166.0            10030.0\n",
            "1    1/4/2015  288        2775.0         8166.0             9780.0\n",
            "2    1/3/2015  287        2769.0         8166.0             9722.0\n",
            "3    1/2/2015  286        2730.0         8157.0             9633.0\n",
            "4  12/31/2014  284        2730.0         8115.0             9633.0\n",
            "5  12/28/2014  281        2706.0         8018.0             9446.0\n",
            "6  12/27/2014  280        2695.0         7977.0             9409.0\n",
            "7  12/24/2014  277        2630.0         7977.0             9203.0\n",
            "8  12/21/2014  273        2597.0         7862.0             9004.0\n",
            "9  12/20/2014  272        2571.0         7862.0             8939.0\n"
          ]
        }
      ]
    },
    {
      "cell_type": "markdown",
      "metadata": {
        "id": "KwUWil23XSix"
      },
      "source": [
        "**누락값 삭제하기**"
      ]
    },
    {
      "cell_type": "code",
      "metadata": {
        "colab": {
          "base_uri": "https://localhost:8080/"
        },
        "id": "4Be1C2IjXQib",
        "outputId": "051480c2-e39e-4c05-acd7-1b0c45da7a7c"
      },
      "source": [
        "print(ebola.shape) #--> dropna를 이용해 해결; 많은 양의 데이터를 날릴 수 있는 위험이 있다. "
      ],
      "execution_count": null,
      "outputs": [
        {
          "output_type": "stream",
          "name": "stdout",
          "text": [
            "(122, 18)\n"
          ]
        }
      ]
    },
    {
      "cell_type": "markdown",
      "metadata": {
        "id": "tx2YgtiEXmYD"
      },
      "source": [
        "**누락값이 포함된 데이터 계산하기**"
      ]
    },
    {
      "cell_type": "code",
      "metadata": {
        "id": "Zb58zz0jXprJ"
      },
      "source": [
        "# ebola['Cases_multiple'] = ebola['Cases_Guinea'] + ebola['Cases_Liberia'] + ebola['Cases_SierraLeone']\n",
        "# ebola_subset = ebola.loc[:,['Cases_Guinea','Cases_Liberia','Cases_SierraLeone','Cases_mutiple']]\n",
        "# print(ebola_subset)"
      ],
      "execution_count": null,
      "outputs": []
    },
    {
      "cell_type": "markdown",
      "metadata": {
        "id": "yRBrl0NSY3XC"
      },
      "source": [
        "# ***07: 깔끔한 데이터***\n",
        "깔끔한 데이터는 어떻게 만드는가? ,\n",
        "1. melt 메소드\n",
        "\n",
        "melt: 판다스 메서드로 데이터프레임을 깔끔한 데이터로 정리하는데 유용한,,\n",
        "\n",
        "지정한 열의 데이터를 모두 행으로 정리해준다.\n",
        "\n",
        "메서드.\n",
        "\n",
        "id_vars: 위치를 그대로 유지할 열의 이름을 지정한다. \n",
        "\n",
        "value_vars: 행으로 위치를 변경할 열의 이름을 지정\n",
        "\n",
        "var_name: value_vars로 위치를 변경한 열의 이름을 지정함\n",
        "\n",
        "value_name: var_name으로 위치를 변경한 열의 데이터를 저장한 열의 이름을 지정함\n"
      ]
    },
    {
      "cell_type": "code",
      "metadata": {
        "colab": {
          "base_uri": "https://localhost:8080/"
        },
        "id": "bG-FcjH0Y2RT",
        "outputId": "15e46a28-4bf0-4739-d298-2ed610ab457b"
      },
      "source": [
        "import pandas as pd\n",
        "pew = pd.read_csv('/content/drive/MyDrive/Colab Notebooks/doit_pandas-master/data/pew.csv')\n",
        "print(pew.head())\n",
        "print(pew.iloc[:,0:6])"
      ],
      "execution_count": null,
      "outputs": [
        {
          "output_type": "stream",
          "name": "stdout",
          "text": [
            "             religion  <$10k  $10-20k  ...  $100-150k  >150k  Don't know/refused\n",
            "0            Agnostic     27       34  ...        109     84                  96\n",
            "1             Atheist     12       27  ...         59     74                  76\n",
            "2            Buddhist     27       21  ...         39     53                  54\n",
            "3            Catholic    418      617  ...        792    633                1489\n",
            "4  Don’t know/refused     15       14  ...         17     18                 116\n",
            "\n",
            "[5 rows x 11 columns]\n",
            "                   religion  <$10k  $10-20k  $20-30k  $30-40k  $40-50k\n",
            "0                  Agnostic     27       34       60       81       76\n",
            "1                   Atheist     12       27       37       52       35\n",
            "2                  Buddhist     27       21       30       34       33\n",
            "3                  Catholic    418      617      732      670      638\n",
            "4        Don’t know/refused     15       14       15       11       10\n",
            "5          Evangelical Prot    575      869     1064      982      881\n",
            "6                     Hindu      1        9        7        9       11\n",
            "7   Historically Black Prot    228      244      236      238      197\n",
            "8         Jehovah's Witness     20       27       24       24       21\n",
            "9                    Jewish     19       19       25       25       30\n",
            "10            Mainline Prot    289      495      619      655      651\n",
            "11                   Mormon     29       40       48       51       56\n",
            "12                   Muslim      6        7        9       10        9\n",
            "13                 Orthodox     13       17       23       32       32\n",
            "14          Other Christian      9        7       11       13       13\n",
            "15             Other Faiths     20       33       40       46       49\n",
            "16    Other World Religions      5        2        3        4        2\n",
            "17             Unaffiliated    217      299      374      365      341\n"
          ]
        }
      ]
    },
    {
      "cell_type": "code",
      "metadata": {
        "colab": {
          "base_uri": "https://localhost:8080/"
        },
        "id": "K6UqQwIdsAZT",
        "outputId": "fc42a9e1-68b8-4eb2-8f6b-ed002316db32"
      },
      "source": [
        "pew_long = pd.melt(pew,id_vars='religion',var_name='inocme',value_name='count')\n",
        "print(pew_long.head())"
      ],
      "execution_count": null,
      "outputs": [
        {
          "output_type": "stream",
          "name": "stdout",
          "text": [
            "             religion inocme  count\n",
            "0            Agnostic  <$10k     27\n",
            "1             Atheist  <$10k     12\n",
            "2            Buddhist  <$10k     27\n",
            "3            Catholic  <$10k    418\n",
            "4  Don’t know/refused  <$10k     15\n"
          ]
        }
      ]
    },
    {
      "cell_type": "code",
      "metadata": {
        "colab": {
          "base_uri": "https://localhost:8080/"
        },
        "id": "w7pESwsgspFA",
        "outputId": "10938e16-7a03-40b5-eea0-5d3d703712e2"
      },
      "source": [
        "#2개 이상의 열을 고정하고 나머지 열을 행으로 바꾸기\n",
        "billboard = pd.read_csv('/content/drive/MyDrive/Colab Notebooks/doit_pandas-master/data/billboard.csv')\n",
        "print(billboard.iloc[0:5,0:16])"
      ],
      "execution_count": null,
      "outputs": [
        {
          "output_type": "stream",
          "name": "stdout",
          "text": [
            "   year        artist                    track  time  ...   wk8   wk9  wk10  wk11\n",
            "0  2000         2 Pac  Baby Don't Cry (Keep...  4:22  ...   NaN   NaN   NaN   NaN\n",
            "1  2000       2Ge+her  The Hardest Part Of ...  3:15  ...   NaN   NaN   NaN   NaN\n",
            "2  2000  3 Doors Down               Kryptonite  3:53  ...  53.0  51.0  51.0  51.0\n",
            "3  2000  3 Doors Down                    Loser  4:24  ...  59.0  62.0  61.0  61.0\n",
            "4  2000      504 Boyz            Wobble Wobble  3:35  ...  49.0  53.0  57.0  64.0\n",
            "\n",
            "[5 rows x 16 columns]\n"
          ]
        }
      ]
    },
    {
      "cell_type": "code",
      "metadata": {
        "colab": {
          "base_uri": "https://localhost:8080/"
        },
        "id": "8Lv3YKCnuG_D",
        "outputId": "ca283567-14f9-4210-c6d5-c11a6b64dc0c"
      },
      "source": [
        "billboard_long = pd.melt(billboard,id_vars=['year','artist','track','time','date.entered'],var_name='week',value_name='rating')\n",
        "print(billboard_long.head())"
      ],
      "execution_count": null,
      "outputs": [
        {
          "output_type": "stream",
          "name": "stdout",
          "text": [
            "   year        artist                    track  time date.entered week  rating\n",
            "0  2000         2 Pac  Baby Don't Cry (Keep...  4:22   2000-02-26  wk1    87.0\n",
            "1  2000       2Ge+her  The Hardest Part Of ...  3:15   2000-09-02  wk1    91.0\n",
            "2  2000  3 Doors Down               Kryptonite  3:53   2000-04-08  wk1    81.0\n",
            "3  2000  3 Doors Down                    Loser  4:24   2000-10-21  wk1    76.0\n",
            "4  2000      504 Boyz            Wobble Wobble  3:35   2000-04-15  wk1    57.0\n"
          ]
        }
      ]
    },
    {
      "cell_type": "markdown",
      "metadata": {
        "id": "0hDsqHwgv-qW"
      },
      "source": [
        "07-2, 열이름 관리하기"
      ]
    },
    {
      "cell_type": "code",
      "metadata": {
        "colab": {
          "base_uri": "https://localhost:8080/"
        },
        "id": "krE3WNGQusYb",
        "outputId": "f6c870bd-fc45-4df1-d01e-76f2415628bd"
      },
      "source": [
        "#하나의 열이 열가지 의미를 가질 수도 있어,, \n",
        "print(ebola.iloc[:5,[0,1,2,3,10,11]])\n",
        "ebola_long = pd.melt(ebola,id_vars=['Date','Day'])\n",
        "print(ebola_long)"
      ],
      "execution_count": null,
      "outputs": [
        {
          "output_type": "stream",
          "name": "stdout",
          "text": [
            "         Date  Day  Cases_Guinea  Cases_Liberia  Deaths_Guinea  Deaths_Liberia\n",
            "0    1/5/2015  289        2776.0            NaN         1786.0             NaN\n",
            "1    1/4/2015  288        2775.0            NaN         1781.0             NaN\n",
            "2    1/3/2015  287        2769.0         8166.0         1767.0          3496.0\n",
            "3    1/2/2015  286           NaN         8157.0            NaN          3496.0\n",
            "4  12/31/2014  284        2730.0         8115.0         1739.0          3471.0\n",
            "            Date  Day      variable   value\n",
            "0       1/5/2015  289  Cases_Guinea  2776.0\n",
            "1       1/4/2015  288  Cases_Guinea  2775.0\n",
            "2       1/3/2015  287  Cases_Guinea  2769.0\n",
            "3       1/2/2015  286  Cases_Guinea     NaN\n",
            "4     12/31/2014  284  Cases_Guinea  2730.0\n",
            "...          ...  ...           ...     ...\n",
            "1947   3/27/2014    5   Deaths_Mali     NaN\n",
            "1948   3/26/2014    4   Deaths_Mali     NaN\n",
            "1949   3/25/2014    3   Deaths_Mali     NaN\n",
            "1950   3/24/2014    2   Deaths_Mali     NaN\n",
            "1951   3/22/2014    0   Deaths_Mali     NaN\n",
            "\n",
            "[1952 rows x 4 columns]\n"
          ]
        }
      ]
    },
    {
      "cell_type": "code",
      "metadata": {
        "colab": {
          "base_uri": "https://localhost:8080/"
        },
        "id": "tjoYiTesw1ng",
        "outputId": "642dd2c3-501d-4191-ee93-559083a978c5"
      },
      "source": [
        "#split으로 열 이름 구분하기(_로 가능)  : retrun list\n",
        "variable_split = ebola_long.variable.str.split('_')\n",
        "print(variable_split[:5])  \n",
        "status_values = variable_split.str.get(0)\n",
        "country_values = variable_split.str.get(1)\n",
        "print(status_values[-5:])"
      ],
      "execution_count": null,
      "outputs": [
        {
          "output_type": "stream",
          "name": "stdout",
          "text": [
            "0    [Cases, Guinea]\n",
            "1    [Cases, Guinea]\n",
            "2    [Cases, Guinea]\n",
            "3    [Cases, Guinea]\n",
            "4    [Cases, Guinea]\n",
            "Name: variable, dtype: object\n",
            "1947    Deaths\n",
            "1948    Deaths\n",
            "1949    Deaths\n",
            "1950    Deaths\n",
            "1951    Deaths\n",
            "Name: variable, dtype: object\n"
          ]
        }
      ]
    },
    {
      "cell_type": "code",
      "metadata": {
        "colab": {
          "base_uri": "https://localhost:8080/"
        },
        "id": "BRiVhpgOyBMi",
        "outputId": "fc0e500d-c3cb-4928-ac6f-9bbea35464e0"
      },
      "source": [
        "ebola_long['status'] = status_values\n",
        "ebola_long['country'] = country_values\n",
        "print(ebola_long.head())#concat 으로도가능"
      ],
      "execution_count": null,
      "outputs": [
        {
          "output_type": "stream",
          "name": "stdout",
          "text": [
            "         Date  Day      variable   value status country\n",
            "0    1/5/2015  289  Cases_Guinea  2776.0  Cases  Guinea\n",
            "1    1/4/2015  288  Cases_Guinea  2775.0  Cases  Guinea\n",
            "2    1/3/2015  287  Cases_Guinea  2769.0  Cases  Guinea\n",
            "3    1/2/2015  286  Cases_Guinea     NaN  Cases  Guinea\n",
            "4  12/31/2014  284  Cases_Guinea  2730.0  Cases  Guinea\n"
          ]
        }
      ]
    },
    {
      "cell_type": "code",
      "metadata": {
        "colab": {
          "base_uri": "https://localhost:8080/"
        },
        "id": "qshAZIZwyXOZ",
        "outputId": "d60e94ff-da28-4157-b039-8a7acd9b8d2c"
      },
      "source": [
        "# 여러 열을 하나로 정리하기\n",
        "# 데이터프레임에서의 열은 변수와 같은 개념으로 사용, \n",
        "weather = pd.read_csv('/content/drive/MyDrive/Colab Notebooks/doit_pandas-master/data/weather.csv')\n",
        "print(weather.iloc[:5,:])"
      ],
      "execution_count": null,
      "outputs": [
        {
          "output_type": "stream",
          "name": "stdout",
          "text": [
            "        id  year  month element  d1    d2  ...  d26  d27  d28  d29   d30  d31\n",
            "0  MX17004  2010      1    tmax NaN   NaN  ...  NaN  NaN  NaN  NaN  27.8  NaN\n",
            "1  MX17004  2010      1    tmin NaN   NaN  ...  NaN  NaN  NaN  NaN  14.5  NaN\n",
            "2  MX17004  2010      2    tmax NaN  27.3  ...  NaN  NaN  NaN  NaN   NaN  NaN\n",
            "3  MX17004  2010      2    tmin NaN  14.4  ...  NaN  NaN  NaN  NaN   NaN  NaN\n",
            "4  MX17004  2010      3    tmax NaN   NaN  ...  NaN  NaN  NaN  NaN   NaN  NaN\n",
            "\n",
            "[5 rows x 35 columns]\n"
          ]
        }
      ]
    },
    {
      "cell_type": "code",
      "metadata": {
        "colab": {
          "base_uri": "https://localhost:8080/"
        },
        "id": "nWr2AQZc1AM0",
        "outputId": "e06cef96-d93a-449b-b8e4-1a44f42e8dd7"
      },
      "source": [
        "weather_melt = pd.melt(weather,id_vars=['id','year','month','element'],\n",
        "                       var_name='day',value_name='temp')\n",
        "print(weather_melt.head())"
      ],
      "execution_count": null,
      "outputs": [
        {
          "output_type": "stream",
          "name": "stdout",
          "text": [
            "        id  year  month element day  temp\n",
            "0  MX17004  2010      1    tmax  d1   NaN\n",
            "1  MX17004  2010      1    tmin  d1   NaN\n",
            "2  MX17004  2010      2    tmax  d1   NaN\n",
            "3  MX17004  2010      2    tmin  d1   NaN\n",
            "4  MX17004  2010      3    tmax  d1   NaN\n"
          ]
        }
      ]
    },
    {
      "cell_type": "code",
      "metadata": {
        "colab": {
          "base_uri": "https://localhost:8080/"
        },
        "id": "XNqTqxAB1fpF",
        "outputId": "64f125ef-a5e2-47eb-d8c6-22c5fead6405"
      },
      "source": [
        "weather_tidy=weather_melt.pivot_table(\n",
        "    index=['id','year','month','element'],\n",
        "    columns='element',\n",
        "    values='temp',\n",
        "    dropna=False\n",
        ")\n",
        "print(weather_tidy)"
      ],
      "execution_count": null,
      "outputs": [
        {
          "output_type": "stream",
          "name": "stdout",
          "text": [
            "element                          tmax       tmin\n",
            "id      year month element                      \n",
            "MX17004 2010 1     tmax     27.800000        NaN\n",
            "                   tmin           NaN  14.500000\n",
            "             2     tmax     27.750000        NaN\n",
            "                   tmin           NaN  13.225000\n",
            "             3     tmax     32.566667        NaN\n",
            "                   tmin           NaN  16.200000\n",
            "             4     tmax     36.300000        NaN\n",
            "                   tmin           NaN  16.700000\n",
            "             5     tmax     33.200000        NaN\n",
            "                   tmin           NaN  18.200000\n",
            "             6     tmax     29.050000        NaN\n",
            "                   tmin           NaN  17.750000\n",
            "             7     tmax     29.250000        NaN\n",
            "                   tmin           NaN  17.000000\n",
            "             8     tmax     28.271429        NaN\n",
            "                   tmin           NaN  15.842857\n",
            "             10    tmax     28.900000        NaN\n",
            "                   tmin           NaN  13.080000\n",
            "             11    tmax     28.120000        NaN\n",
            "                   tmin           NaN  12.500000\n",
            "             12    tmax     28.850000        NaN\n",
            "                   tmin           NaN  12.150000\n"
          ]
        }
      ]
    },
    {
      "cell_type": "code",
      "metadata": {
        "colab": {
          "base_uri": "https://localhost:8080/"
        },
        "id": "wh9teK732Iuh",
        "outputId": "c9ad9796-a514-4414-8b23-7b91c68bbabf"
      },
      "source": [
        "weather_tidy_flat = weather_tidy.reset_index()\n",
        "print(weather_tidy_flat.head())"
      ],
      "execution_count": null,
      "outputs": [
        {
          "output_type": "stream",
          "name": "stdout",
          "text": [
            "element       id  year  month element       tmax    tmin\n",
            "0        MX17004  2010      1    tmax  27.800000     NaN\n",
            "1        MX17004  2010      1    tmin        NaN  14.500\n",
            "2        MX17004  2010      2    tmax  27.750000     NaN\n",
            "3        MX17004  2010      2    tmin        NaN  13.225\n",
            "4        MX17004  2010      3    tmax  32.566667     NaN\n"
          ]
        }
      ]
    },
    {
      "cell_type": "code",
      "metadata": {
        "id": "cbIwcwNR4Lj4",
        "colab": {
          "base_uri": "https://localhost:8080/"
        },
        "outputId": "9addc588-4277-4fe1-9d82-780cf638804d"
      },
      "source": [
        "#중복 데이터 처리하기\n",
        "billboard_long = pd.melt(billboard,id_vars=['year','artist','track','time','date.entered'],var_name='week',value_name='rating')\n",
        "print(billboard_long.shape)\n",
        "print(billboard_long.head())"
      ],
      "execution_count": null,
      "outputs": [
        {
          "output_type": "stream",
          "name": "stdout",
          "text": [
            "(24092, 7)\n",
            "   year        artist                    track  time date.entered week  rating\n",
            "0  2000         2 Pac  Baby Don't Cry (Keep...  4:22   2000-02-26  wk1    87.0\n",
            "1  2000       2Ge+her  The Hardest Part Of ...  3:15   2000-09-02  wk1    91.0\n",
            "2  2000  3 Doors Down               Kryptonite  3:53   2000-04-08  wk1    81.0\n",
            "3  2000  3 Doors Down                    Loser  4:24   2000-10-21  wk1    76.0\n",
            "4  2000      504 Boyz            Wobble Wobble  3:35   2000-04-15  wk1    57.0\n"
          ]
        }
      ]
    },
    {
      "cell_type": "code",
      "metadata": {
        "colab": {
          "base_uri": "https://localhost:8080/"
        },
        "id": "5DwMAHXVIFaD",
        "outputId": "1ac5b420-58e5-4f67-ec95-291bb5cabc52"
      },
      "source": [
        "billboard_song = billboard_long[['year','artist','track','time']]\n",
        "print(billboard_song.shape)"
      ],
      "execution_count": null,
      "outputs": [
        {
          "output_type": "stream",
          "name": "stdout",
          "text": [
            "(24092, 4)\n"
          ]
        }
      ]
    },
    {
      "cell_type": "code",
      "metadata": {
        "colab": {
          "base_uri": "https://localhost:8080/"
        },
        "id": "SfWJDOcRIhHJ",
        "outputId": "1cca89a2-34ff-42a3-aff5-7b7ebe670596"
      },
      "source": [
        "billboard_song = billboard_song.drop_duplicates()\n",
        "print(billboard_song.shape)"
      ],
      "execution_count": null,
      "outputs": [
        {
          "output_type": "stream",
          "name": "stdout",
          "text": [
            "(317, 4)\n"
          ]
        }
      ]
    },
    {
      "cell_type": "code",
      "metadata": {
        "colab": {
          "base_uri": "https://localhost:8080/"
        },
        "id": "4MXy0Tb6JBK7",
        "outputId": "62d7ef78-8a12-451b-8243-157a291fb1f5"
      },
      "source": [
        "billboard_song['id']=range(len(billboard_song))\n",
        "print(billboard_song.head(n=10))"
      ],
      "execution_count": null,
      "outputs": [
        {
          "output_type": "stream",
          "name": "stdout",
          "text": [
            "   year          artist                    track  time  id\n",
            "0  2000           2 Pac  Baby Don't Cry (Keep...  4:22   0\n",
            "1  2000         2Ge+her  The Hardest Part Of ...  3:15   1\n",
            "2  2000    3 Doors Down               Kryptonite  3:53   2\n",
            "3  2000    3 Doors Down                    Loser  4:24   3\n",
            "4  2000        504 Boyz            Wobble Wobble  3:35   4\n",
            "5  2000            98^0  Give Me Just One Nig...  3:24   5\n",
            "6  2000         A*Teens            Dancing Queen  3:44   6\n",
            "7  2000         Aaliyah            I Don't Wanna  4:15   7\n",
            "8  2000         Aaliyah                Try Again  4:03   8\n",
            "9  2000  Adams, Yolanda            Open My Heart  5:30   9\n"
          ]
        }
      ]
    },
    {
      "cell_type": "code",
      "metadata": {
        "colab": {
          "base_uri": "https://localhost:8080/"
        },
        "id": "djZlq5WfJOM8",
        "outputId": "6f3f6b60-e955-4a54-8ce6-eec635fb42ee"
      },
      "source": [
        "billboard_rating = billboard_long.merge(billboard_song,on=['year','artist','track','time'])\n",
        "print(billboard_rating.shape)\n",
        "print(billboard_rating.head())"
      ],
      "execution_count": null,
      "outputs": [
        {
          "output_type": "stream",
          "name": "stdout",
          "text": [
            "(24092, 8)\n",
            "   year artist                    track  time date.entered week  rating  id\n",
            "0  2000  2 Pac  Baby Don't Cry (Keep...  4:22   2000-02-26  wk1    87.0   0\n",
            "1  2000  2 Pac  Baby Don't Cry (Keep...  4:22   2000-02-26  wk2    82.0   0\n",
            "2  2000  2 Pac  Baby Don't Cry (Keep...  4:22   2000-02-26  wk3    72.0   0\n",
            "3  2000  2 Pac  Baby Don't Cry (Keep...  4:22   2000-02-26  wk4    77.0   0\n",
            "4  2000  2 Pac  Baby Don't Cry (Keep...  4:22   2000-02-26  wk5    87.0   0\n"
          ]
        }
      ]
    },
    {
      "cell_type": "markdown",
      "metadata": {
        "id": "XM3pkxCUJybV"
      },
      "source": [
        "대용량 데이터 처리하기\n"
      ]
    },
    {
      "cell_type": "code",
      "metadata": {
        "colab": {
          "base_uri": "https://localhost:8080/"
        },
        "id": "ahGKzVlSJwBF",
        "outputId": "9cfbc96d-c85e-411a-cf11-a011d5964fd7"
      },
      "source": [
        "import os\n",
        "import urllib.request\n",
        "\n",
        "with open('/content/drive/MyDrive/Colab Notebooks/doit_pandas-master/data/raw_data_urls.txt','r') as data_urls:\n",
        "  for line, url in enumerate(data_urls):\n",
        "    if line == 5:\n",
        "      break\n",
        "    fn = url.split('/')[-1].strip()\n",
        "    fp = os.path.join('/content/drive/MyDrive/Colab Notebooks/doit_pandas-master/data',fn)\n",
        "    print(url)\n",
        "    print(fp)\n",
        "    urllib.request.urlretrieve(url,fp)"
      ],
      "execution_count": null,
      "outputs": [
        {
          "output_type": "stream",
          "name": "stdout",
          "text": [
            "https://s3.amazonaws.com/nyc-tlc/trip+data/fhv_tripdata_2015-01.csv\n",
            "\n",
            "/content/drive/MyDrive/Colab Notebooks/doit_pandas-master/data/fhv_tripdata_2015-01.csv\n",
            "https://s3.amazonaws.com/nyc-tlc/trip+data/fhv_tripdata_2015-02.csv\n",
            "\n",
            "/content/drive/MyDrive/Colab Notebooks/doit_pandas-master/data/fhv_tripdata_2015-02.csv\n",
            "https://s3.amazonaws.com/nyc-tlc/trip+data/fhv_tripdata_2015-03.csv\n",
            "\n",
            "/content/drive/MyDrive/Colab Notebooks/doit_pandas-master/data/fhv_tripdata_2015-03.csv\n",
            "https://s3.amazonaws.com/nyc-tlc/trip+data/fhv_tripdata_2015-04.csv\n",
            "\n",
            "/content/drive/MyDrive/Colab Notebooks/doit_pandas-master/data/fhv_tripdata_2015-04.csv\n",
            "https://s3.amazonaws.com/nyc-tlc/trip+data/fhv_tripdata_2015-05.csv\n",
            "\n",
            "/content/drive/MyDrive/Colab Notebooks/doit_pandas-master/data/fhv_tripdata_2015-05.csv\n"
          ]
        }
      ]
    },
    {
      "cell_type": "code",
      "metadata": {
        "id": "M3CnmI8BKSMF"
      },
      "source": [
        ""
      ],
      "execution_count": null,
      "outputs": []
    }
  ]
}