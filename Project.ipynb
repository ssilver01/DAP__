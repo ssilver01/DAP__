{
  "nbformat": 4,
  "nbformat_minor": 0,
  "metadata": {
    "colab": {
      "name": "Project.ipynb",
      "provenance": [],
      "collapsed_sections": [],
      "mount_file_id": "1Yu2HUzstwOaJwuw5KMNp_eXuUVR8SFNa",
      "authorship_tag": "ABX9TyOQDU3y4JZ0s++mKOaJ0X52",
      "include_colab_link": true
    },
    "kernelspec": {
      "name": "python3",
      "display_name": "Python 3"
    },
    "language_info": {
      "name": "python"
    }
  },
  "cells": [
    {
      "cell_type": "markdown",
      "metadata": {
        "id": "view-in-github",
        "colab_type": "text"
      },
      "source": [
        "<a href=\"https://colab.research.google.com/github/ssilver01/DAP__/blob/main/Project.ipynb\" target=\"_parent\"><img src=\"https://colab.research.google.com/assets/colab-badge.svg\" alt=\"Open In Colab\"/></a>"
      ]
    },
    {
      "cell_type": "code",
      "metadata": {
        "id": "Fu0JXjwBpBFB"
      },
      "source": [
        "import pandas as pd\n",
        "import numpy as np\n",
        "import matplotlib.pyplot as plt\n",
        "import seaborn as sns"
      ],
      "execution_count": 8,
      "outputs": []
    },
    {
      "cell_type": "code",
      "metadata": {
        "colab": {
          "base_uri": "https://localhost:8080/"
        },
        "id": "rmRW9n0Rtmpi",
        "outputId": "11fbc599-1331-44cb-86ac-566af9653297"
      },
      "source": [
        "from google.colab import drive\n",
        "drive.mount('/content/drive')"
      ],
      "execution_count": 9,
      "outputs": [
        {
          "output_type": "stream",
          "name": "stdout",
          "text": [
            "Drive already mounted at /content/drive; to attempt to forcibly remount, call drive.mount(\"/content/drive\", force_remount=True).\n"
          ]
        }
      ]
    },
    {
      "cell_type": "code",
      "metadata": {
        "id": "yOqbd-BWp_B0"
      },
      "source": [
        "df = pd.read_csv('/content/drive/MyDrive/서울시 우리마을가게 상권분석서비스(상권영역).csv',encoding='cp949')"
      ],
      "execution_count": 11,
      "outputs": []
    },
    {
      "cell_type": "code",
      "metadata": {
        "id": "nmngoDiSq6q3",
        "colab": {
          "base_uri": "https://localhost:8080/",
          "height": 206
        },
        "outputId": "3a229ca5-066a-4bc5-9db2-80d54171e78c"
      },
      "source": [
        "df.head()"
      ],
      "execution_count": 13,
      "outputs": [
        {
          "output_type": "execute_result",
          "data": {
            "text/html": [
              "<div>\n",
              "<style scoped>\n",
              "    .dataframe tbody tr th:only-of-type {\n",
              "        vertical-align: middle;\n",
              "    }\n",
              "\n",
              "    .dataframe tbody tr th {\n",
              "        vertical-align: top;\n",
              "    }\n",
              "\n",
              "    .dataframe thead th {\n",
              "        text-align: right;\n",
              "    }\n",
              "</style>\n",
              "<table border=\"1\" class=\"dataframe\">\n",
              "  <thead>\n",
              "    <tr style=\"text-align: right;\">\n",
              "      <th></th>\n",
              "      <th>기준_년월_코드</th>\n",
              "      <th>상권_구분_코드</th>\n",
              "      <th>상권_구분_코드_명</th>\n",
              "      <th>상권_코드</th>\n",
              "      <th>상권_코드_명</th>\n",
              "      <th>엑스좌표_값</th>\n",
              "      <th>와이좌표_값</th>\n",
              "      <th>시군구_코드</th>\n",
              "      <th>행정동_코드</th>\n",
              "      <th>형태정보</th>\n",
              "    </tr>\n",
              "  </thead>\n",
              "  <tbody>\n",
              "    <tr>\n",
              "      <th>0</th>\n",
              "      <td>201810</td>\n",
              "      <td>A</td>\n",
              "      <td>골목상권</td>\n",
              "      <td>1000275</td>\n",
              "      <td>보문로26길</td>\n",
              "      <td>201886</td>\n",
              "      <td>454183</td>\n",
              "      <td>11290</td>\n",
              "      <td>11290600</td>\n",
              "      <td>NaN</td>\n",
              "    </tr>\n",
              "    <tr>\n",
              "      <th>1</th>\n",
              "      <td>201810</td>\n",
              "      <td>A</td>\n",
              "      <td>골목상권</td>\n",
              "      <td>1000276</td>\n",
              "      <td>보문로31길</td>\n",
              "      <td>201385</td>\n",
              "      <td>454290</td>\n",
              "      <td>11290</td>\n",
              "      <td>11290555</td>\n",
              "      <td>NaN</td>\n",
              "    </tr>\n",
              "    <tr>\n",
              "      <th>2</th>\n",
              "      <td>201810</td>\n",
              "      <td>D</td>\n",
              "      <td>발달상권</td>\n",
              "      <td>1001045</td>\n",
              "      <td>동작구 총신대입구역_1</td>\n",
              "      <td>198304</td>\n",
              "      <td>442948</td>\n",
              "      <td>11590</td>\n",
              "      <td>11590630</td>\n",
              "      <td>NaN</td>\n",
              "    </tr>\n",
              "    <tr>\n",
              "      <th>3</th>\n",
              "      <td>201810</td>\n",
              "      <td>D</td>\n",
              "      <td>발달상권</td>\n",
              "      <td>1001046</td>\n",
              "      <td>서울 관악구 신림역_4</td>\n",
              "      <td>193828</td>\n",
              "      <td>443001</td>\n",
              "      <td>11620</td>\n",
              "      <td>11620695</td>\n",
              "      <td>NaN</td>\n",
              "    </tr>\n",
              "    <tr>\n",
              "      <th>4</th>\n",
              "      <td>201810</td>\n",
              "      <td>D</td>\n",
              "      <td>발달상권</td>\n",
              "      <td>1001047</td>\n",
              "      <td>뱅뱅사거리_1</td>\n",
              "      <td>202960</td>\n",
              "      <td>443242</td>\n",
              "      <td>11680</td>\n",
              "      <td>11680655</td>\n",
              "      <td>NaN</td>\n",
              "    </tr>\n",
              "  </tbody>\n",
              "</table>\n",
              "</div>"
            ],
            "text/plain": [
              "   기준_년월_코드 상권_구분_코드 상권_구분_코드_명    상권_코드  ...  와이좌표_값  시군구_코드    행정동_코드  형태정보\n",
              "0    201810        A       골목상권  1000275  ...  454183   11290  11290600   NaN\n",
              "1    201810        A       골목상권  1000276  ...  454290   11290  11290555   NaN\n",
              "2    201810        D       발달상권  1001045  ...  442948   11590  11590630   NaN\n",
              "3    201810        D       발달상권  1001046  ...  443001   11620  11620695   NaN\n",
              "4    201810        D       발달상권  1001047  ...  443242   11680  11680655   NaN\n",
              "\n",
              "[5 rows x 10 columns]"
            ]
          },
          "metadata": {},
          "execution_count": 13
        }
      ]
    },
    {
      "cell_type": "code",
      "metadata": {
        "colab": {
          "base_uri": "https://localhost:8080/"
        },
        "id": "riC6ivzFt2Lo",
        "outputId": "df9c934c-e137-4986-b6e5-1626e8a03445"
      },
      "source": [
        "df.info()"
      ],
      "execution_count": 17,
      "outputs": [
        {
          "output_type": "stream",
          "name": "stdout",
          "text": [
            "<class 'pandas.core.frame.DataFrame'>\n",
            "RangeIndex: 1496 entries, 0 to 1495\n",
            "Data columns (total 10 columns):\n",
            " #   Column      Non-Null Count  Dtype  \n",
            "---  ------      --------------  -----  \n",
            " 0   기준_년월_코드    1496 non-null   int64  \n",
            " 1   상권_구분_코드    1496 non-null   object \n",
            " 2   상권_구분_코드_명  1496 non-null   object \n",
            " 3   상권_코드       1496 non-null   int64  \n",
            " 4   상권_코드_명     1496 non-null   object \n",
            " 5   엑스좌표_값      1496 non-null   int64  \n",
            " 6   와이좌표_값      1496 non-null   int64  \n",
            " 7   시군구_코드      1496 non-null   int64  \n",
            " 8   행정동_코드      1496 non-null   int64  \n",
            " 9   형태정보        0 non-null      float64\n",
            "dtypes: float64(1), int64(6), object(3)\n",
            "memory usage: 117.0+ KB\n"
          ]
        }
      ]
    },
    {
      "cell_type": "code",
      "metadata": {
        "id": "pYUHFC4pueZx"
      },
      "source": [
        ""
      ],
      "execution_count": null,
      "outputs": []
    }
  ]
}